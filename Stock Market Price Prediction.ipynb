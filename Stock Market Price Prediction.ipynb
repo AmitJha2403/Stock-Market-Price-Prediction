{
 "cells": [
  {
   "cell_type": "code",
   "execution_count": 1,
   "id": "809809ed",
   "metadata": {},
   "outputs": [],
   "source": [
    "import math\n",
    "import numpy as np\n",
    "import pandas as pd\n",
    "from sklearn.preprocessing import MinMaxScaler\n",
    "from keras.models import Sequential\n",
    "from keras.layers import Dense,LSTM\n",
    "import matplotlib.pyplot as plt"
   ]
  },
  {
   "cell_type": "code",
   "execution_count": 2,
   "id": "b015c18e",
   "metadata": {
    "scrolled": true
   },
   "outputs": [
    {
     "data": {
      "text/html": [
       "<div>\n",
       "<style scoped>\n",
       "    .dataframe tbody tr th:only-of-type {\n",
       "        vertical-align: middle;\n",
       "    }\n",
       "\n",
       "    .dataframe tbody tr th {\n",
       "        vertical-align: top;\n",
       "    }\n",
       "\n",
       "    .dataframe thead th {\n",
       "        text-align: right;\n",
       "    }\n",
       "</style>\n",
       "<table border=\"1\" class=\"dataframe\">\n",
       "  <thead>\n",
       "    <tr style=\"text-align: right;\">\n",
       "      <th></th>\n",
       "      <th>DATE</th>\n",
       "      <th>OPEN</th>\n",
       "      <th>HIGH</th>\n",
       "      <th>LOW</th>\n",
       "      <th>CLOSE</th>\n",
       "      <th>NO. OF SHARES</th>\n",
       "      <th>NO. OF TRADES</th>\n",
       "      <th>Market Capitalization</th>\n",
       "    </tr>\n",
       "  </thead>\n",
       "  <tbody>\n",
       "    <tr>\n",
       "      <th>0</th>\n",
       "      <td>09-02-2023</td>\n",
       "      <td>4626.90</td>\n",
       "      <td>4658.00</td>\n",
       "      <td>4585.00</td>\n",
       "      <td>4637.60</td>\n",
       "      <td>1722</td>\n",
       "      <td>607</td>\n",
       "      <td>7.958223e+06</td>\n",
       "    </tr>\n",
       "    <tr>\n",
       "      <th>1</th>\n",
       "      <td>08-02-2023</td>\n",
       "      <td>4597.05</td>\n",
       "      <td>4637.05</td>\n",
       "      <td>4578.00</td>\n",
       "      <td>4590.95</td>\n",
       "      <td>3670</td>\n",
       "      <td>906</td>\n",
       "      <td>1.690962e+07</td>\n",
       "    </tr>\n",
       "    <tr>\n",
       "      <th>2</th>\n",
       "      <td>07-02-2023</td>\n",
       "      <td>4630.00</td>\n",
       "      <td>4661.50</td>\n",
       "      <td>4595.95</td>\n",
       "      <td>4605.35</td>\n",
       "      <td>5979</td>\n",
       "      <td>1589</td>\n",
       "      <td>2.767515e+07</td>\n",
       "    </tr>\n",
       "    <tr>\n",
       "      <th>3</th>\n",
       "      <td>06-02-2023</td>\n",
       "      <td>4602.00</td>\n",
       "      <td>4634.10</td>\n",
       "      <td>4602.00</td>\n",
       "      <td>4626.60</td>\n",
       "      <td>4502</td>\n",
       "      <td>1230</td>\n",
       "      <td>2.079046e+07</td>\n",
       "    </tr>\n",
       "    <tr>\n",
       "      <th>4</th>\n",
       "      <td>03-02-2023</td>\n",
       "      <td>4590.00</td>\n",
       "      <td>4656.45</td>\n",
       "      <td>4571.50</td>\n",
       "      <td>4624.80</td>\n",
       "      <td>26221</td>\n",
       "      <td>4118</td>\n",
       "      <td>1.209830e+08</td>\n",
       "    </tr>\n",
       "  </tbody>\n",
       "</table>\n",
       "</div>"
      ],
      "text/plain": [
       "         DATE     OPEN     HIGH      LOW    CLOSE  NO. OF SHARES  \\\n",
       "0  09-02-2023  4626.90  4658.00  4585.00  4637.60           1722   \n",
       "1  08-02-2023  4597.05  4637.05  4578.00  4590.95           3670   \n",
       "2  07-02-2023  4630.00  4661.50  4595.95  4605.35           5979   \n",
       "3  06-02-2023  4602.00  4634.10  4602.00  4626.60           4502   \n",
       "4  03-02-2023  4590.00  4656.45  4571.50  4624.80          26221   \n",
       "\n",
       "   NO. OF TRADES  Market Capitalization  \n",
       "0            607           7.958223e+06  \n",
       "1            906           1.690962e+07  \n",
       "2           1589           2.767515e+07  \n",
       "3           1230           2.079046e+07  \n",
       "4           4118           1.209830e+08  "
      ]
     },
     "execution_count": 2,
     "metadata": {},
     "output_type": "execute_result"
    }
   ],
   "source": [
    "df = pd.read_csv(\"STOCK_VAL.csv\")\n",
    "df.head()"
   ]
  },
  {
   "cell_type": "code",
   "execution_count": 3,
   "id": "d62b3e5c",
   "metadata": {},
   "outputs": [
    {
     "data": {
      "text/html": [
       "<div>\n",
       "<style scoped>\n",
       "    .dataframe tbody tr th:only-of-type {\n",
       "        vertical-align: middle;\n",
       "    }\n",
       "\n",
       "    .dataframe tbody tr th {\n",
       "        vertical-align: top;\n",
       "    }\n",
       "\n",
       "    .dataframe thead th {\n",
       "        text-align: right;\n",
       "    }\n",
       "</style>\n",
       "<table border=\"1\" class=\"dataframe\">\n",
       "  <thead>\n",
       "    <tr style=\"text-align: right;\">\n",
       "      <th></th>\n",
       "      <th>0</th>\n",
       "      <th>1</th>\n",
       "      <th>2</th>\n",
       "      <th>3</th>\n",
       "      <th>4</th>\n",
       "      <th>5</th>\n",
       "      <th>6</th>\n",
       "      <th>7</th>\n",
       "    </tr>\n",
       "  </thead>\n",
       "  <tbody>\n",
       "    <tr>\n",
       "      <th>0</th>\n",
       "      <td>02-01-2007</td>\n",
       "      <td>112.0</td>\n",
       "      <td>112.0</td>\n",
       "      <td>109.5</td>\n",
       "      <td>109.72</td>\n",
       "      <td>1010</td>\n",
       "      <td>59</td>\n",
       "      <td>111857.5</td>\n",
       "    </tr>\n",
       "    <tr>\n",
       "      <th>1</th>\n",
       "      <td>03-01-2007</td>\n",
       "      <td>110.2</td>\n",
       "      <td>111.4</td>\n",
       "      <td>109.2</td>\n",
       "      <td>109.51</td>\n",
       "      <td>1139</td>\n",
       "      <td>70</td>\n",
       "      <td>125631.7</td>\n",
       "    </tr>\n",
       "    <tr>\n",
       "      <th>2</th>\n",
       "      <td>04-01-2007</td>\n",
       "      <td>110.0</td>\n",
       "      <td>111.8</td>\n",
       "      <td>109.0</td>\n",
       "      <td>110.13</td>\n",
       "      <td>2999</td>\n",
       "      <td>99</td>\n",
       "      <td>331089.6</td>\n",
       "    </tr>\n",
       "    <tr>\n",
       "      <th>3</th>\n",
       "      <td>05-01-2007</td>\n",
       "      <td>110.68</td>\n",
       "      <td>112.0</td>\n",
       "      <td>110.0</td>\n",
       "      <td>110.1</td>\n",
       "      <td>1013</td>\n",
       "      <td>72</td>\n",
       "      <td>112443.0</td>\n",
       "    </tr>\n",
       "    <tr>\n",
       "      <th>4</th>\n",
       "      <td>08-01-2007</td>\n",
       "      <td>109.5</td>\n",
       "      <td>113.8</td>\n",
       "      <td>109.06</td>\n",
       "      <td>110.04</td>\n",
       "      <td>1394</td>\n",
       "      <td>60</td>\n",
       "      <td>155333.42</td>\n",
       "    </tr>\n",
       "    <tr>\n",
       "      <th>...</th>\n",
       "      <td>...</td>\n",
       "      <td>...</td>\n",
       "      <td>...</td>\n",
       "      <td>...</td>\n",
       "      <td>...</td>\n",
       "      <td>...</td>\n",
       "      <td>...</td>\n",
       "      <td>...</td>\n",
       "    </tr>\n",
       "    <tr>\n",
       "      <th>3980</th>\n",
       "      <td>03-02-2023</td>\n",
       "      <td>4590.0</td>\n",
       "      <td>4656.45</td>\n",
       "      <td>4571.5</td>\n",
       "      <td>4624.8</td>\n",
       "      <td>26221</td>\n",
       "      <td>4118</td>\n",
       "      <td>120983038.475</td>\n",
       "    </tr>\n",
       "    <tr>\n",
       "      <th>3981</th>\n",
       "      <td>06-02-2023</td>\n",
       "      <td>4602.0</td>\n",
       "      <td>4634.1</td>\n",
       "      <td>4602.0</td>\n",
       "      <td>4626.6</td>\n",
       "      <td>4502</td>\n",
       "      <td>1230</td>\n",
       "      <td>20790461.1</td>\n",
       "    </tr>\n",
       "    <tr>\n",
       "      <th>3982</th>\n",
       "      <td>07-02-2023</td>\n",
       "      <td>4630.0</td>\n",
       "      <td>4661.5</td>\n",
       "      <td>4595.95</td>\n",
       "      <td>4605.35</td>\n",
       "      <td>5979</td>\n",
       "      <td>1589</td>\n",
       "      <td>27675146.775</td>\n",
       "    </tr>\n",
       "    <tr>\n",
       "      <th>3983</th>\n",
       "      <td>08-02-2023</td>\n",
       "      <td>4597.05</td>\n",
       "      <td>4637.05</td>\n",
       "      <td>4578.0</td>\n",
       "      <td>4590.95</td>\n",
       "      <td>3670</td>\n",
       "      <td>906</td>\n",
       "      <td>16909616.75</td>\n",
       "    </tr>\n",
       "    <tr>\n",
       "      <th>3984</th>\n",
       "      <td>09-02-2023</td>\n",
       "      <td>4626.9</td>\n",
       "      <td>4658.0</td>\n",
       "      <td>4585.0</td>\n",
       "      <td>4637.6</td>\n",
       "      <td>1722</td>\n",
       "      <td>607</td>\n",
       "      <td>7958223.0</td>\n",
       "    </tr>\n",
       "  </tbody>\n",
       "</table>\n",
       "<p>3985 rows × 8 columns</p>\n",
       "</div>"
      ],
      "text/plain": [
       "               0        1        2        3        4      5     6  \\\n",
       "0     02-01-2007    112.0    112.0    109.5   109.72   1010    59   \n",
       "1     03-01-2007    110.2    111.4    109.2   109.51   1139    70   \n",
       "2     04-01-2007    110.0    111.8    109.0   110.13   2999    99   \n",
       "3     05-01-2007   110.68    112.0    110.0    110.1   1013    72   \n",
       "4     08-01-2007    109.5    113.8   109.06   110.04   1394    60   \n",
       "...          ...      ...      ...      ...      ...    ...   ...   \n",
       "3980  03-02-2023   4590.0  4656.45   4571.5   4624.8  26221  4118   \n",
       "3981  06-02-2023   4602.0   4634.1   4602.0   4626.6   4502  1230   \n",
       "3982  07-02-2023   4630.0   4661.5  4595.95  4605.35   5979  1589   \n",
       "3983  08-02-2023  4597.05  4637.05   4578.0  4590.95   3670   906   \n",
       "3984  09-02-2023   4626.9   4658.0   4585.0   4637.6   1722   607   \n",
       "\n",
       "                  7  \n",
       "0          111857.5  \n",
       "1          125631.7  \n",
       "2          331089.6  \n",
       "3          112443.0  \n",
       "4         155333.42  \n",
       "...             ...  \n",
       "3980  120983038.475  \n",
       "3981     20790461.1  \n",
       "3982   27675146.775  \n",
       "3983    16909616.75  \n",
       "3984      7958223.0  \n",
       "\n",
       "[3985 rows x 8 columns]"
      ]
     },
     "execution_count": 3,
     "metadata": {},
     "output_type": "execute_result"
    }
   ],
   "source": [
    "df = np.flipud(df)\n",
    "df = pd.DataFrame(df)\n",
    "df"
   ]
  },
  {
   "cell_type": "code",
   "execution_count": 4,
   "id": "48fb7768",
   "metadata": {},
   "outputs": [
    {
     "data": {
      "text/html": [
       "<div>\n",
       "<style scoped>\n",
       "    .dataframe tbody tr th:only-of-type {\n",
       "        vertical-align: middle;\n",
       "    }\n",
       "\n",
       "    .dataframe tbody tr th {\n",
       "        vertical-align: top;\n",
       "    }\n",
       "\n",
       "    .dataframe thead th {\n",
       "        text-align: right;\n",
       "    }\n",
       "</style>\n",
       "<table border=\"1\" class=\"dataframe\">\n",
       "  <thead>\n",
       "    <tr style=\"text-align: right;\">\n",
       "      <th></th>\n",
       "      <th>DATE</th>\n",
       "      <th>OPEN</th>\n",
       "      <th>HIGH</th>\n",
       "      <th>LOW</th>\n",
       "      <th>CLOSE</th>\n",
       "      <th>NO. OF SHARES</th>\n",
       "      <th>NO. OF TRADES</th>\n",
       "      <th>Market Capitalization</th>\n",
       "    </tr>\n",
       "  </thead>\n",
       "  <tbody>\n",
       "    <tr>\n",
       "      <th>0</th>\n",
       "      <td>02-01-2007</td>\n",
       "      <td>112.0</td>\n",
       "      <td>112.0</td>\n",
       "      <td>109.5</td>\n",
       "      <td>109.72</td>\n",
       "      <td>1010</td>\n",
       "      <td>59</td>\n",
       "      <td>111857.5</td>\n",
       "    </tr>\n",
       "    <tr>\n",
       "      <th>1</th>\n",
       "      <td>03-01-2007</td>\n",
       "      <td>110.2</td>\n",
       "      <td>111.4</td>\n",
       "      <td>109.2</td>\n",
       "      <td>109.51</td>\n",
       "      <td>1139</td>\n",
       "      <td>70</td>\n",
       "      <td>125631.7</td>\n",
       "    </tr>\n",
       "    <tr>\n",
       "      <th>2</th>\n",
       "      <td>04-01-2007</td>\n",
       "      <td>110.0</td>\n",
       "      <td>111.8</td>\n",
       "      <td>109.0</td>\n",
       "      <td>110.13</td>\n",
       "      <td>2999</td>\n",
       "      <td>99</td>\n",
       "      <td>331089.6</td>\n",
       "    </tr>\n",
       "    <tr>\n",
       "      <th>3</th>\n",
       "      <td>05-01-2007</td>\n",
       "      <td>110.68</td>\n",
       "      <td>112.0</td>\n",
       "      <td>110.0</td>\n",
       "      <td>110.1</td>\n",
       "      <td>1013</td>\n",
       "      <td>72</td>\n",
       "      <td>112443.0</td>\n",
       "    </tr>\n",
       "    <tr>\n",
       "      <th>4</th>\n",
       "      <td>08-01-2007</td>\n",
       "      <td>109.5</td>\n",
       "      <td>113.8</td>\n",
       "      <td>109.06</td>\n",
       "      <td>110.04</td>\n",
       "      <td>1394</td>\n",
       "      <td>60</td>\n",
       "      <td>155333.42</td>\n",
       "    </tr>\n",
       "    <tr>\n",
       "      <th>...</th>\n",
       "      <td>...</td>\n",
       "      <td>...</td>\n",
       "      <td>...</td>\n",
       "      <td>...</td>\n",
       "      <td>...</td>\n",
       "      <td>...</td>\n",
       "      <td>...</td>\n",
       "      <td>...</td>\n",
       "    </tr>\n",
       "    <tr>\n",
       "      <th>3980</th>\n",
       "      <td>03-02-2023</td>\n",
       "      <td>4590.0</td>\n",
       "      <td>4656.45</td>\n",
       "      <td>4571.5</td>\n",
       "      <td>4624.8</td>\n",
       "      <td>26221</td>\n",
       "      <td>4118</td>\n",
       "      <td>120983038.475</td>\n",
       "    </tr>\n",
       "    <tr>\n",
       "      <th>3981</th>\n",
       "      <td>06-02-2023</td>\n",
       "      <td>4602.0</td>\n",
       "      <td>4634.1</td>\n",
       "      <td>4602.0</td>\n",
       "      <td>4626.6</td>\n",
       "      <td>4502</td>\n",
       "      <td>1230</td>\n",
       "      <td>20790461.1</td>\n",
       "    </tr>\n",
       "    <tr>\n",
       "      <th>3982</th>\n",
       "      <td>07-02-2023</td>\n",
       "      <td>4630.0</td>\n",
       "      <td>4661.5</td>\n",
       "      <td>4595.95</td>\n",
       "      <td>4605.35</td>\n",
       "      <td>5979</td>\n",
       "      <td>1589</td>\n",
       "      <td>27675146.775</td>\n",
       "    </tr>\n",
       "    <tr>\n",
       "      <th>3983</th>\n",
       "      <td>08-02-2023</td>\n",
       "      <td>4597.05</td>\n",
       "      <td>4637.05</td>\n",
       "      <td>4578.0</td>\n",
       "      <td>4590.95</td>\n",
       "      <td>3670</td>\n",
       "      <td>906</td>\n",
       "      <td>16909616.75</td>\n",
       "    </tr>\n",
       "    <tr>\n",
       "      <th>3984</th>\n",
       "      <td>09-02-2023</td>\n",
       "      <td>4626.9</td>\n",
       "      <td>4658.0</td>\n",
       "      <td>4585.0</td>\n",
       "      <td>4637.6</td>\n",
       "      <td>1722</td>\n",
       "      <td>607</td>\n",
       "      <td>7958223.0</td>\n",
       "    </tr>\n",
       "  </tbody>\n",
       "</table>\n",
       "<p>3985 rows × 8 columns</p>\n",
       "</div>"
      ],
      "text/plain": [
       "            DATE     OPEN     HIGH      LOW    CLOSE NO. OF SHARES  \\\n",
       "0     02-01-2007    112.0    112.0    109.5   109.72          1010   \n",
       "1     03-01-2007    110.2    111.4    109.2   109.51          1139   \n",
       "2     04-01-2007    110.0    111.8    109.0   110.13          2999   \n",
       "3     05-01-2007   110.68    112.0    110.0    110.1          1013   \n",
       "4     08-01-2007    109.5    113.8   109.06   110.04          1394   \n",
       "...          ...      ...      ...      ...      ...           ...   \n",
       "3980  03-02-2023   4590.0  4656.45   4571.5   4624.8         26221   \n",
       "3981  06-02-2023   4602.0   4634.1   4602.0   4626.6          4502   \n",
       "3982  07-02-2023   4630.0   4661.5  4595.95  4605.35          5979   \n",
       "3983  08-02-2023  4597.05  4637.05   4578.0  4590.95          3670   \n",
       "3984  09-02-2023   4626.9   4658.0   4585.0   4637.6          1722   \n",
       "\n",
       "     NO. OF TRADES Market Capitalization  \n",
       "0               59              111857.5  \n",
       "1               70              125631.7  \n",
       "2               99              331089.6  \n",
       "3               72              112443.0  \n",
       "4               60             155333.42  \n",
       "...            ...                   ...  \n",
       "3980          4118         120983038.475  \n",
       "3981          1230            20790461.1  \n",
       "3982          1589          27675146.775  \n",
       "3983           906           16909616.75  \n",
       "3984           607             7958223.0  \n",
       "\n",
       "[3985 rows x 8 columns]"
      ]
     },
     "execution_count": 4,
     "metadata": {},
     "output_type": "execute_result"
    }
   ],
   "source": [
    "df['DATE'] = df[0]\n",
    "df['OPEN'] = df[1]\n",
    "df['HIGH'] = df[2]\n",
    "df['LOW'] = df[3]\n",
    "df['CLOSE'] = df[4]\n",
    "df['NO. OF SHARES'] = df[5]\n",
    "df['NO. OF TRADES'] = df[6]\n",
    "df['Market Capitalization'] = df[7]\n",
    "df = df.drop(df[[0,1,2,3,4,5,6,7]], axis = 'columns')\n",
    "df"
   ]
  },
  {
   "cell_type": "code",
   "execution_count": 5,
   "id": "6e44ede8",
   "metadata": {
    "scrolled": true
   },
   "outputs": [
    {
     "data": {
      "image/png": "[encoded data removed]",
      "text/plain": [
       "<Figure size 1152x576 with 1 Axes>"
      ]
     },
     "metadata": {
      "needs_background": "light"
     },
     "output_type": "display_data"
    }
   ],
   "source": [
    "plt.figure(figsize=(16,8))\n",
    "plt.title('Closing price history')\n",
    "plt.plot(df['CLOSE'])\n",
    "plt.ylabel('Closing price')\n",
    "plt.show()"
   ]
  },
  {
   "cell_type": "code",
   "execution_count": 6,
   "id": "097af730",
   "metadata": {},
   "outputs": [
    {
     "data": {
      "text/plain": [
       "2790"
      ]
     },
     "execution_count": 6,
     "metadata": {},
     "output_type": "execute_result"
    }
   ],
   "source": [
    "data = df.filter(['CLOSE'])\n",
    "\n",
    "dataset = data.values\n",
    "\n",
    "training_data_len = math.ceil( len(dataset)*(0.7))\n",
    "\n",
    "training_data_len"
   ]
  },
  {
   "cell_type": "code",
   "execution_count": 7,
   "id": "23954878",
   "metadata": {},
   "outputs": [
    {
     "data": {
      "text/plain": [
       "array([[3.04685534e-04],\n",
       "       [2.58320344e-04],\n",
       "       [3.95208047e-04],\n",
       "       ...,\n",
       "       [9.92879632e-01],\n",
       "       [9.89700304e-01],\n",
       "       [1.00000000e+00]])"
      ]
     },
     "execution_count": 7,
     "metadata": {},
     "output_type": "execute_result"
    }
   ],
   "source": [
    "scaler = MinMaxScaler(feature_range=(0,1))\n",
    "scaled_data = scaler.fit_transform(dataset)\n",
    "scaled_data"
   ]
  },
  {
   "cell_type": "code",
   "execution_count": 8,
   "id": "e4719ecb",
   "metadata": {},
   "outputs": [],
   "source": [
    "train_data = scaled_data[0:training_data_len , :]\n",
    "\n",
    "x_train = []\n",
    "y_train = []\n",
    "\n",
    "for i in range(60, len(train_data)):\n",
    "    x_train.append(train_data[i-60:i, 0])\n",
    "    y_train.append(train_data[i,0])"
   ]
  },
  {
   "cell_type": "code",
   "execution_count": 9,
   "id": "c2419f3a",
   "metadata": {},
   "outputs": [
    {
     "data": {
      "text/plain": [
       "(2730, 60, 1)"
      ]
     },
     "execution_count": 9,
     "metadata": {},
     "output_type": "execute_result"
    }
   ],
   "source": [
    "x_train, y_train = np.array(x_train), np.array(y_train)\n",
    "\n",
    "x_train = np.reshape(x_train, (x_train.shape[0], x_train.shape[1], 1))\n",
    "x_train.shape"
   ]
  },
  {
   "cell_type": "code",
   "execution_count": 10,
   "id": "fb7e1e89",
   "metadata": {},
   "outputs": [],
   "source": [
    "model = Sequential()\n",
    "model.add(LSTM(50, return_sequences=True, input_shape=(x_train.shape[1], 1)))\n",
    "model.add(LSTM(50, return_sequences=True))\n",
    "model.add(LSTM(50))\n",
    "model.add(Dense(25))\n",
    "model.add(Dense(1))"
   ]
  },
  {
   "cell_type": "code",
   "execution_count": 11,
   "id": "864cbd32",
   "metadata": {},
   "outputs": [],
   "source": [
    "model.compile(optimizer='adam', loss='mean_squared_error')"
   ]
  },
  {
   "cell_type": "code",
   "execution_count": 12,
   "id": "7af67ffc",
   "metadata": {},
   "outputs": [
    {
     "name": "stdout",
     "output_type": "stream",
     "text": [
      "2730/2730 [==============================] - 171s 59ms/step - loss: 5.6179e-04\n"
     ]
    },
    {
     "data": {
      "text/plain": [
       "<keras.callbacks.History at 0x2195807ddc0>"
      ]
     },
     "execution_count": 12,
     "metadata": {},
     "output_type": "execute_result"
    }
   ],
   "source": [
    "model.fit(x_train, y_train, batch_size=1, epochs=1)"
   ]
  },
  {
   "cell_type": "code",
   "execution_count": 13,
   "id": "97a6c959",
   "metadata": {},
   "outputs": [],
   "source": [
    "test_data = scaled_data[training_data_len - 60:, :]\n",
    "\n",
    "x_test = []\n",
    "y_test = dataset[training_data_len:, :]\n",
    "for i in range(60, len(test_data)):\n",
    "    x_test.append(test_data[i-60:i,0])\n",
    "    "
   ]
  },
  {
   "cell_type": "code",
   "execution_count": 14,
   "id": "5b4c02d2",
   "metadata": {},
   "outputs": [],
   "source": [
    "x_test = np.array(x_test)"
   ]
  },
  {
   "cell_type": "code",
   "execution_count": 15,
   "id": "9c5fe367",
   "metadata": {},
   "outputs": [
    {
     "data": {
      "text/plain": [
       "array([[0.48778608, 0.4931799 , 0.49722471, ..., 0.53437206, 0.54737198,\n",
       "        0.54613557],\n",
       "       [0.4931799 , 0.49722471, 0.49553128, ..., 0.54737198, 0.54613557,\n",
       "        0.54306001],\n",
       "       [0.49722471, 0.49553128, 0.49781642, ..., 0.54613557, 0.54306001,\n",
       "        0.54307105],\n",
       "       ...,\n",
       "       [0.8973011 , 0.88924239, 0.88055444, ..., 0.98633331, 0.99717393,\n",
       "        0.99757135],\n",
       "       [0.88924239, 0.88055444, 0.88184604, ..., 0.99717393, 0.99757135,\n",
       "        0.99287963],\n",
       "       [0.88055444, 0.88184604, 0.89003722, ..., 0.99757135, 0.99287963,\n",
       "        0.9897003 ]])"
      ]
     },
     "execution_count": 15,
     "metadata": {},
     "output_type": "execute_result"
    }
   ],
   "source": [
    "x_test"
   ]
  },
  {
   "cell_type": "code",
   "execution_count": 16,
   "id": "10135009",
   "metadata": {},
   "outputs": [],
   "source": [
    "x_test = np.reshape(x_test, (x_test.shape[0], x_test.shape[1], 1))"
   ]
  },
  {
   "cell_type": "code",
   "execution_count": 17,
   "id": "0805d2b2",
   "metadata": {},
   "outputs": [
    {
     "name": "stdout",
     "output_type": "stream",
     "text": [
      "38/38 [==============================] - 4s 39ms/step\n"
     ]
    }
   ],
   "source": [
    "predictions = model.predict(x_test)\n",
    "predictions = scaler.inverse_transform(predictions)"
   ]
  },
  {
   "cell_type": "code",
   "execution_count": 18,
   "id": "0607cc15",
   "metadata": {},
   "outputs": [
    {
     "data": {
      "text/plain": [
       "381.96471610224853"
      ]
     },
     "execution_count": 18,
     "metadata": {},
     "output_type": "execute_result"
    }
   ],
   "source": [
    "rmse = np.sqrt(np.mean(predictions - y_test)**2)\n",
    "rmse"
   ]
  },
  {
   "cell_type": "code",
   "execution_count": 19,
   "id": "6b02b295",
   "metadata": {},
   "outputs": [
    {
     "name": "stderr",
     "output_type": "stream",
     "text": [
      "C:\\Users\\Amit Jha\\AppData\\Local\\Temp\\ipykernel_27400\\2134025626.py:3: SettingWithCopyWarning: \n",
      "A value is trying to be set on a copy of a slice from a DataFrame.\n",
      "Try using .loc[row_indexer,col_indexer] = value instead\n",
      "\n",
      "See the caveats in the documentation: https://pandas.pydata.org/pandas-docs/stable/user_guide/indexing.html#returning-a-view-versus-a-copy\n",
      "  valid['PREDICTIONS'] = predictions\n"
     ]
    },
    {
     "data": {
      "image/png": "[encoded data removed]",
      "text/plain": [
       "<Figure size 1152x576 with 1 Axes>"
      ]
     },
     "metadata": {
      "needs_background": "light"
     },
     "output_type": "display_data"
    }
   ],
   "source": [
    "train = data[:training_data_len]\n",
    "valid = data[training_data_len:]\n",
    "valid['PREDICTIONS'] = predictions\n",
    "\n",
    "plt.figure(figsize=(16,8))\n",
    "plt.title('Model')\n",
    "plt.xlabel('Date', fontsize=18)\n",
    "plt.ylabel('Close Price', fontsize=18)\n",
    "plt.plot(train['CLOSE'])\n",
    "plt.plot(valid[['CLOSE', 'PREDICTIONS']])\n",
    "plt.legend(['Train', 'Val', 'Predictions'], loc='lower right')\n",
    "plt.show()"
   ]
  },
  {
   "cell_type": "code",
   "execution_count": 20,
   "id": "b656d2c7",
   "metadata": {},
   "outputs": [
    {
     "name": "stderr",
     "output_type": "stream",
     "text": [
      "C:\\Users\\Amit Jha\\AppData\\Local\\Temp\\ipykernel_27400\\4075054641.py:1: SettingWithCopyWarning: \n",
      "A value is trying to be set on a copy of a slice from a DataFrame.\n",
      "Try using .loc[row_indexer,col_indexer] = value instead\n",
      "\n",
      "See the caveats in the documentation: https://pandas.pydata.org/pandas-docs/stable/user_guide/indexing.html#returning-a-view-versus-a-copy\n",
      "  valid['DATE'] = df.DATE[2790:]\n"
     ]
    },
    {
     "data": {
      "text/html": [
       "<div>\n",
       "<style scoped>\n",
       "    .dataframe tbody tr th:only-of-type {\n",
       "        vertical-align: middle;\n",
       "    }\n",
       "\n",
       "    .dataframe tbody tr th {\n",
       "        vertical-align: top;\n",
       "    }\n",
       "\n",
       "    .dataframe thead th {\n",
       "        text-align: right;\n",
       "    }\n",
       "</style>\n",
       "<table border=\"1\" class=\"dataframe\">\n",
       "  <thead>\n",
       "    <tr style=\"text-align: right;\">\n",
       "      <th></th>\n",
       "      <th>CLOSE</th>\n",
       "      <th>PREDICTIONS</th>\n",
       "      <th>DATE</th>\n",
       "    </tr>\n",
       "  </thead>\n",
       "  <tbody>\n",
       "    <tr>\n",
       "      <th>2790</th>\n",
       "      <td>2568.0</td>\n",
       "      <td>2318.497559</td>\n",
       "      <td>10-04-2018</td>\n",
       "    </tr>\n",
       "    <tr>\n",
       "      <th>2791</th>\n",
       "      <td>2568.05</td>\n",
       "      <td>2329.430176</td>\n",
       "      <td>11-04-2018</td>\n",
       "    </tr>\n",
       "    <tr>\n",
       "      <th>2792</th>\n",
       "      <td>2582.2</td>\n",
       "      <td>2339.595459</td>\n",
       "      <td>12-04-2018</td>\n",
       "    </tr>\n",
       "    <tr>\n",
       "      <th>2793</th>\n",
       "      <td>2602.65</td>\n",
       "      <td>2348.969238</td>\n",
       "      <td>13-04-2018</td>\n",
       "    </tr>\n",
       "    <tr>\n",
       "      <th>2794</th>\n",
       "      <td>2655.95</td>\n",
       "      <td>2357.879639</td>\n",
       "      <td>16-04-2018</td>\n",
       "    </tr>\n",
       "    <tr>\n",
       "      <th>...</th>\n",
       "      <td>...</td>\n",
       "      <td>...</td>\n",
       "      <td>...</td>\n",
       "    </tr>\n",
       "    <tr>\n",
       "      <th>3980</th>\n",
       "      <td>4624.8</td>\n",
       "      <td>3678.142578</td>\n",
       "      <td>03-02-2023</td>\n",
       "    </tr>\n",
       "    <tr>\n",
       "      <th>3981</th>\n",
       "      <td>4626.6</td>\n",
       "      <td>3688.164307</td>\n",
       "      <td>06-02-2023</td>\n",
       "    </tr>\n",
       "    <tr>\n",
       "      <th>3982</th>\n",
       "      <td>4605.35</td>\n",
       "      <td>3702.077148</td>\n",
       "      <td>07-02-2023</td>\n",
       "    </tr>\n",
       "    <tr>\n",
       "      <th>3983</th>\n",
       "      <td>4590.95</td>\n",
       "      <td>3717.917969</td>\n",
       "      <td>08-02-2023</td>\n",
       "    </tr>\n",
       "    <tr>\n",
       "      <th>3984</th>\n",
       "      <td>4637.6</td>\n",
       "      <td>3733.873535</td>\n",
       "      <td>09-02-2023</td>\n",
       "    </tr>\n",
       "  </tbody>\n",
       "</table>\n",
       "<p>1195 rows × 3 columns</p>\n",
       "</div>"
      ],
      "text/plain": [
       "        CLOSE  PREDICTIONS        DATE\n",
       "2790   2568.0  2318.497559  10-04-2018\n",
       "2791  2568.05  2329.430176  11-04-2018\n",
       "2792   2582.2  2339.595459  12-04-2018\n",
       "2793  2602.65  2348.969238  13-04-2018\n",
       "2794  2655.95  2357.879639  16-04-2018\n",
       "...       ...          ...         ...\n",
       "3980   4624.8  3678.142578  03-02-2023\n",
       "3981   4626.6  3688.164307  06-02-2023\n",
       "3982  4605.35  3702.077148  07-02-2023\n",
       "3983  4590.95  3717.917969  08-02-2023\n",
       "3984   4637.6  3733.873535  09-02-2023\n",
       "\n",
       "[1195 rows x 3 columns]"
      ]
     },
     "execution_count": 20,
     "metadata": {},
     "output_type": "execute_result"
    }
   ],
   "source": [
    "valid['DATE'] = df.DATE[2790:]\n",
    "valid"
   ]
  },
  {
   "cell_type": "code",
   "execution_count": 21,
   "id": "a0d54202",
   "metadata": {},
   "outputs": [
    {
     "data": {
      "text/plain": [
       "1195"
      ]
     },
     "execution_count": 21,
     "metadata": {},
     "output_type": "execute_result"
    }
   ],
   "source": [
    "len(x_test)"
   ]
  },
  {
   "cell_type": "code",
   "execution_count": 22,
   "id": "3589220d",
   "metadata": {},
   "outputs": [
    {
     "data": {
      "text/plain": [
       "(1, 60)"
      ]
     },
     "execution_count": 22,
     "metadata": {},
     "output_type": "execute_result"
    }
   ],
   "source": [
    "x_input = x_test[1194].reshape(1,-1)\n",
    "x_input.shape"
   ]
  },
  {
   "cell_type": "code",
   "execution_count": 23,
   "id": "d6ae8369",
   "metadata": {},
   "outputs": [],
   "source": [
    "temp_input = list(x_input)\n",
    "temp_input = temp_input[0].tolist()"
   ]
  },
  {
   "cell_type": "code",
   "execution_count": 24,
   "id": "a4acf3e5",
   "metadata": {},
   "outputs": [
    {
     "data": {
      "text/plain": [
       "[0.8805544393565395,\n",
       " 0.8818460410751424,\n",
       " 0.89003722462389,\n",
       " 0.8885579542795071,\n",
       " 0.8867033466835641,\n",
       " 0.8822655356504153,\n",
       " 0.8862507341155066,\n",
       " 0.8938237151322732,\n",
       " 0.8930951192910099,\n",
       " 0.9024454325872218,\n",
       " 0.9060663331316815,\n",
       " 0.9216759470642004,\n",
       " 0.9371199710327957,\n",
       " 0.9474196667888352,\n",
       " 0.9530828435550178,\n",
       " 0.9482586559393807,\n",
       " 0.9530386862313048,\n",
       " 0.9458741604588828,\n",
       " 0.9460507897537346,\n",
       " 0.9501463815281084,\n",
       " 0.9543744452736208,\n",
       " 0.9536348101014295,\n",
       " 0.949461943010558,\n",
       " 0.9619695049522439,\n",
       " 0.9579291098325113,\n",
       " 0.9751394267496235,\n",
       " 0.9712646215938143,\n",
       " 0.9516808485271324,\n",
       " 0.94564233450939,\n",
       " 0.9320970754604505,\n",
       " 0.9421318272742125,\n",
       " 0.9413259561164518,\n",
       " 0.9443396934598588,\n",
       " 0.9372634823348626,\n",
       " 0.9269306685860382,\n",
       " 0.923762380609636,\n",
       " 0.9120275718329263,\n",
       " 0.9279462870314356,\n",
       " 0.9383122187730445,\n",
       " 0.9387869100029586,\n",
       " 0.9318100528563165,\n",
       " 0.9252637296158754,\n",
       " 0.9333114018625559,\n",
       " 0.9267871572839713,\n",
       " 0.9398466857720686,\n",
       " 0.9462936550341557,\n",
       " 0.9409175008721071,\n",
       " 0.929734658641809,\n",
       " 0.9339075257326803,\n",
       " 0.9470884868609882,\n",
       " 0.9469228968970648,\n",
       " 0.9431916030433227,\n",
       " 0.9494288250177734,\n",
       " 0.9294586753686033,\n",
       " 0.9407629502391119,\n",
       " 0.9863333083108499,\n",
       " 0.9971739312823729,\n",
       " 0.9975713471957892,\n",
       " 0.9928796315512909,\n",
       " 0.9897003042439603]"
      ]
     },
     "execution_count": 24,
     "metadata": {},
     "output_type": "execute_result"
    }
   ],
   "source": [
    "temp_input"
   ]
  },
  {
   "cell_type": "code",
   "execution_count": 25,
   "id": "8539f762",
   "metadata": {},
   "outputs": [
    {
     "name": "stdout",
     "output_type": "stream",
     "text": [
      "[0.8004694]\n",
      "61\n",
      "1 day input [0.88184604 0.89003722 0.88855795 0.88670335 0.88226554 0.88625073\n",
      " 0.89382372 0.89309512 0.90244543 0.90606633 0.92167595 0.93711997\n",
      " 0.94741967 0.95308284 0.94825866 0.95303869 0.94587416 0.94605079\n",
      " 0.95014638 0.95437445 0.95363481 0.94946194 0.9619695  0.95792911\n",
      " 0.97513943 0.97126462 0.95168085 0.94564233 0.93209708 0.94213183\n",
      " 0.94132596 0.94433969 0.93726348 0.92693067 0.92376238 0.91202757\n",
      " 0.92794629 0.93831222 0.93878691 0.93181005 0.92526373 0.9333114\n",
      " 0.92678716 0.93984669 0.94629366 0.9409175  0.92973466 0.93390753\n",
      " 0.94708849 0.9469229  0.9431916  0.94942883 0.92945868 0.94076295\n",
      " 0.98633331 0.99717393 0.99757135 0.99287963 0.9897003  0.8004694 ]\n",
      "1 day output [[0.799869]]\n",
      "2 day input [0.89003722 0.88855795 0.88670335 0.88226554 0.88625073 0.89382372\n",
      " 0.89309512 0.90244543 0.90606633 0.92167595 0.93711997 0.94741967\n",
      " 0.95308284 0.94825866 0.95303869 0.94587416 0.94605079 0.95014638\n",
      " 0.95437445 0.95363481 0.94946194 0.9619695  0.95792911 0.97513943\n",
      " 0.97126462 0.95168085 0.94564233 0.93209708 0.94213183 0.94132596\n",
      " 0.94433969 0.93726348 0.92693067 0.92376238 0.91202757 0.92794629\n",
      " 0.93831222 0.93878691 0.93181005 0.92526373 0.9333114  0.92678716\n",
      " 0.93984669 0.94629366 0.9409175  0.92973466 0.93390753 0.94708849\n",
      " 0.9469229  0.9431916  0.94942883 0.92945868 0.94076295 0.98633331\n",
      " 0.99717393 0.99757135 0.99287963 0.9897003  0.8004694  0.799869  ]\n",
      "2 day output [[0.79509974]]\n",
      "3 day input [0.88855795 0.88670335 0.88226554 0.88625073 0.89382372 0.89309512\n",
      " 0.90244543 0.90606633 0.92167595 0.93711997 0.94741967 0.95308284\n",
      " 0.94825866 0.95303869 0.94587416 0.94605079 0.95014638 0.95437445\n",
      " 0.95363481 0.94946194 0.9619695  0.95792911 0.97513943 0.97126462\n",
      " 0.95168085 0.94564233 0.93209708 0.94213183 0.94132596 0.94433969\n",
      " 0.93726348 0.92693067 0.92376238 0.91202757 0.92794629 0.93831222\n",
      " 0.93878691 0.93181005 0.92526373 0.9333114  0.92678716 0.93984669\n",
      " 0.94629366 0.9409175  0.92973466 0.93390753 0.94708849 0.9469229\n",
      " 0.9431916  0.94942883 0.92945868 0.94076295 0.98633331 0.99717393\n",
      " 0.99757135 0.99287963 0.9897003  0.8004694  0.799869   0.79509974]\n",
      "3 day output [[0.7869061]]\n",
      "4 day input [0.88670335 0.88226554 0.88625073 0.89382372 0.89309512 0.90244543\n",
      " 0.90606633 0.92167595 0.93711997 0.94741967 0.95308284 0.94825866\n",
      " 0.95303869 0.94587416 0.94605079 0.95014638 0.95437445 0.95363481\n",
      " 0.94946194 0.9619695  0.95792911 0.97513943 0.97126462 0.95168085\n",
      " 0.94564233 0.93209708 0.94213183 0.94132596 0.94433969 0.93726348\n",
      " 0.92693067 0.92376238 0.91202757 0.92794629 0.93831222 0.93878691\n",
      " 0.93181005 0.92526373 0.9333114  0.92678716 0.93984669 0.94629366\n",
      " 0.9409175  0.92973466 0.93390753 0.94708849 0.9469229  0.9431916\n",
      " 0.94942883 0.92945868 0.94076295 0.98633331 0.99717393 0.99757135\n",
      " 0.99287963 0.9897003  0.8004694  0.799869   0.79509974 0.78690612]\n",
      "4 day output [[0.7762832]]\n",
      "5 day input [0.88226554 0.88625073 0.89382372 0.89309512 0.90244543 0.90606633\n",
      " 0.92167595 0.93711997 0.94741967 0.95308284 0.94825866 0.95303869\n",
      " 0.94587416 0.94605079 0.95014638 0.95437445 0.95363481 0.94946194\n",
      " 0.9619695  0.95792911 0.97513943 0.97126462 0.95168085 0.94564233\n",
      " 0.93209708 0.94213183 0.94132596 0.94433969 0.93726348 0.92693067\n",
      " 0.92376238 0.91202757 0.92794629 0.93831222 0.93878691 0.93181005\n",
      " 0.92526373 0.9333114  0.92678716 0.93984669 0.94629366 0.9409175\n",
      " 0.92973466 0.93390753 0.94708849 0.9469229  0.9431916  0.94942883\n",
      " 0.92945868 0.94076295 0.98633331 0.99717393 0.99757135 0.99287963\n",
      " 0.9897003  0.8004694  0.799869   0.79509974 0.78690612 0.7762832 ]\n",
      "5 day output [[0.76416034]]\n",
      "6 day input [0.88625073 0.89382372 0.89309512 0.90244543 0.90606633 0.92167595\n",
      " 0.93711997 0.94741967 0.95308284 0.94825866 0.95303869 0.94587416\n",
      " 0.94605079 0.95014638 0.95437445 0.95363481 0.94946194 0.9619695\n",
      " 0.95792911 0.97513943 0.97126462 0.95168085 0.94564233 0.93209708\n",
      " 0.94213183 0.94132596 0.94433969 0.93726348 0.92693067 0.92376238\n",
      " 0.91202757 0.92794629 0.93831222 0.93878691 0.93181005 0.92526373\n",
      " 0.9333114  0.92678716 0.93984669 0.94629366 0.9409175  0.92973466\n",
      " 0.93390753 0.94708849 0.9469229  0.9431916  0.94942883 0.92945868\n",
      " 0.94076295 0.98633331 0.99717393 0.99757135 0.99287963 0.9897003\n",
      " 0.8004694  0.799869   0.79509974 0.78690612 0.7762832  0.76416034]\n",
      "6 day output [[0.75128305]]\n",
      "7 day input [0.89382372 0.89309512 0.90244543 0.90606633 0.92167595 0.93711997\n",
      " 0.94741967 0.95308284 0.94825866 0.95303869 0.94587416 0.94605079\n",
      " 0.95014638 0.95437445 0.95363481 0.94946194 0.9619695  0.95792911\n",
      " 0.97513943 0.97126462 0.95168085 0.94564233 0.93209708 0.94213183\n",
      " 0.94132596 0.94433969 0.93726348 0.92693067 0.92376238 0.91202757\n",
      " 0.92794629 0.93831222 0.93878691 0.93181005 0.92526373 0.9333114\n",
      " 0.92678716 0.93984669 0.94629366 0.9409175  0.92973466 0.93390753\n",
      " 0.94708849 0.9469229  0.9431916  0.94942883 0.92945868 0.94076295\n",
      " 0.98633331 0.99717393 0.99757135 0.99287963 0.9897003  0.8004694\n",
      " 0.799869   0.79509974 0.78690612 0.7762832  0.76416034 0.75128305]\n",
      "7 day output [[0.7381908]]\n",
      "8 day input [0.89309512 0.90244543 0.90606633 0.92167595 0.93711997 0.94741967\n",
      " 0.95308284 0.94825866 0.95303869 0.94587416 0.94605079 0.95014638\n",
      " 0.95437445 0.95363481 0.94946194 0.9619695  0.95792911 0.97513943\n",
      " 0.97126462 0.95168085 0.94564233 0.93209708 0.94213183 0.94132596\n",
      " 0.94433969 0.93726348 0.92693067 0.92376238 0.91202757 0.92794629\n",
      " 0.93831222 0.93878691 0.93181005 0.92526373 0.9333114  0.92678716\n",
      " 0.93984669 0.94629366 0.9409175  0.92973466 0.93390753 0.94708849\n",
      " 0.9469229  0.9431916  0.94942883 0.92945868 0.94076295 0.98633331\n",
      " 0.99717393 0.99757135 0.99287963 0.9897003  0.8004694  0.799869\n",
      " 0.79509974 0.78690612 0.7762832  0.76416034 0.75128305 0.73819083]\n",
      "8 day output [[0.7252416]]\n",
      "9 day input [0.90244543 0.90606633 0.92167595 0.93711997 0.94741967 0.95308284\n",
      " 0.94825866 0.95303869 0.94587416 0.94605079 0.95014638 0.95437445\n",
      " 0.95363481 0.94946194 0.9619695  0.95792911 0.97513943 0.97126462\n",
      " 0.95168085 0.94564233 0.93209708 0.94213183 0.94132596 0.94433969\n",
      " 0.93726348 0.92693067 0.92376238 0.91202757 0.92794629 0.93831222\n",
      " 0.93878691 0.93181005 0.92526373 0.9333114  0.92678716 0.93984669\n",
      " 0.94629366 0.9409175  0.92973466 0.93390753 0.94708849 0.9469229\n",
      " 0.9431916  0.94942883 0.92945868 0.94076295 0.98633331 0.99717393\n",
      " 0.99757135 0.99287963 0.9897003  0.8004694  0.799869   0.79509974\n",
      " 0.78690612 0.7762832  0.76416034 0.75128305 0.73819083 0.7252416 ]\n",
      "9 day output [[0.71265286]]\n",
      "10 day input [0.90606633 0.92167595 0.93711997 0.94741967 0.95308284 0.94825866\n",
      " 0.95303869 0.94587416 0.94605079 0.95014638 0.95437445 0.95363481\n",
      " 0.94946194 0.9619695  0.95792911 0.97513943 0.97126462 0.95168085\n",
      " 0.94564233 0.93209708 0.94213183 0.94132596 0.94433969 0.93726348\n",
      " 0.92693067 0.92376238 0.91202757 0.92794629 0.93831222 0.93878691\n",
      " 0.93181005 0.92526373 0.9333114  0.92678716 0.93984669 0.94629366\n",
      " 0.9409175  0.92973466 0.93390753 0.94708849 0.9469229  0.9431916\n",
      " 0.94942883 0.92945868 0.94076295 0.98633331 0.99717393 0.99757135\n",
      " 0.99287963 0.9897003  0.8004694  0.799869   0.79509974 0.78690612\n",
      " 0.7762832  0.76416034 0.75128305 0.73819083 0.7252416  0.71265286]\n",
      "10 day output [[0.70053875]]\n",
      "11 day input [0.92167595 0.93711997 0.94741967 0.95308284 0.94825866 0.95303869\n",
      " 0.94587416 0.94605079 0.95014638 0.95437445 0.95363481 0.94946194\n",
      " 0.9619695  0.95792911 0.97513943 0.97126462 0.95168085 0.94564233\n",
      " 0.93209708 0.94213183 0.94132596 0.94433969 0.93726348 0.92693067\n",
      " 0.92376238 0.91202757 0.92794629 0.93831222 0.93878691 0.93181005\n",
      " 0.92526373 0.9333114  0.92678716 0.93984669 0.94629366 0.9409175\n",
      " 0.92973466 0.93390753 0.94708849 0.9469229  0.9431916  0.94942883\n",
      " 0.92945868 0.94076295 0.98633331 0.99717393 0.99757135 0.99287963\n",
      " 0.9897003  0.8004694  0.799869   0.79509974 0.78690612 0.7762832\n",
      " 0.76416034 0.75128305 0.73819083 0.7252416  0.71265286 0.70053875]\n",
      "11 day output [[0.6889463]]\n",
      "12 day input [0.93711997 0.94741967 0.95308284 0.94825866 0.95303869 0.94587416\n",
      " 0.94605079 0.95014638 0.95437445 0.95363481 0.94946194 0.9619695\n",
      " 0.95792911 0.97513943 0.97126462 0.95168085 0.94564233 0.93209708\n",
      " 0.94213183 0.94132596 0.94433969 0.93726348 0.92693067 0.92376238\n",
      " 0.91202757 0.92794629 0.93831222 0.93878691 0.93181005 0.92526373\n",
      " 0.9333114  0.92678716 0.93984669 0.94629366 0.9409175  0.92973466\n",
      " 0.93390753 0.94708849 0.9469229  0.9431916  0.94942883 0.92945868\n",
      " 0.94076295 0.98633331 0.99717393 0.99757135 0.99287963 0.9897003\n",
      " 0.8004694  0.799869   0.79509974 0.78690612 0.7762832  0.76416034\n",
      " 0.75128305 0.73819083 0.7252416  0.71265286 0.70053875 0.68894631]\n",
      "12 day output [[0.67787975]]\n",
      "13 day input [0.94741967 0.95308284 0.94825866 0.95303869 0.94587416 0.94605079\n",
      " 0.95014638 0.95437445 0.95363481 0.94946194 0.9619695  0.95792911\n",
      " 0.97513943 0.97126462 0.95168085 0.94564233 0.93209708 0.94213183\n",
      " 0.94132596 0.94433969 0.93726348 0.92693067 0.92376238 0.91202757\n",
      " 0.92794629 0.93831222 0.93878691 0.93181005 0.92526373 0.9333114\n",
      " 0.92678716 0.93984669 0.94629366 0.9409175  0.92973466 0.93390753\n",
      " 0.94708849 0.9469229  0.9431916  0.94942883 0.92945868 0.94076295\n",
      " 0.98633331 0.99717393 0.99757135 0.99287963 0.9897003  0.8004694\n",
      " 0.799869   0.79509974 0.78690612 0.7762832  0.76416034 0.75128305\n",
      " 0.73819083 0.7252416  0.71265286 0.70053875 0.68894631 0.67787975]\n",
      "13 day output [[0.66731954]]\n",
      "14 day input [0.95308284 0.94825866 0.95303869 0.94587416 0.94605079 0.95014638\n",
      " 0.95437445 0.95363481 0.94946194 0.9619695  0.95792911 0.97513943\n",
      " 0.97126462 0.95168085 0.94564233 0.93209708 0.94213183 0.94132596\n",
      " 0.94433969 0.93726348 0.92693067 0.92376238 0.91202757 0.92794629\n",
      " 0.93831222 0.93878691 0.93181005 0.92526373 0.9333114  0.92678716\n",
      " 0.93984669 0.94629366 0.9409175  0.92973466 0.93390753 0.94708849\n",
      " 0.9469229  0.9431916  0.94942883 0.92945868 0.94076295 0.98633331\n",
      " 0.99717393 0.99757135 0.99287963 0.9897003  0.8004694  0.799869\n",
      " 0.79509974 0.78690612 0.7762832  0.76416034 0.75128305 0.73819083\n",
      " 0.7252416  0.71265286 0.70053875 0.68894631 0.67787975 0.66731954]\n",
      "14 day output [[0.65723455]]\n",
      "15 day input [0.94825866 0.95303869 0.94587416 0.94605079 0.95014638 0.95437445\n",
      " 0.95363481 0.94946194 0.9619695  0.95792911 0.97513943 0.97126462\n",
      " 0.95168085 0.94564233 0.93209708 0.94213183 0.94132596 0.94433969\n",
      " 0.93726348 0.92693067 0.92376238 0.91202757 0.92794629 0.93831222\n",
      " 0.93878691 0.93181005 0.92526373 0.9333114  0.92678716 0.93984669\n",
      " 0.94629366 0.9409175  0.92973466 0.93390753 0.94708849 0.9469229\n",
      " 0.9431916  0.94942883 0.92945868 0.94076295 0.98633331 0.99717393\n",
      " 0.99757135 0.99287963 0.9897003  0.8004694  0.799869   0.79509974\n",
      " 0.78690612 0.7762832  0.76416034 0.75128305 0.73819083 0.7252416\n",
      " 0.71265286 0.70053875 0.68894631 0.67787975 0.66731954 0.65723455]\n",
      "15 day output [[0.6475889]]\n",
      "16 day input [0.95303869 0.94587416 0.94605079 0.95014638 0.95437445 0.95363481\n",
      " 0.94946194 0.9619695  0.95792911 0.97513943 0.97126462 0.95168085\n",
      " 0.94564233 0.93209708 0.94213183 0.94132596 0.94433969 0.93726348\n",
      " 0.92693067 0.92376238 0.91202757 0.92794629 0.93831222 0.93878691\n",
      " 0.93181005 0.92526373 0.9333114  0.92678716 0.93984669 0.94629366\n",
      " 0.9409175  0.92973466 0.93390753 0.94708849 0.9469229  0.9431916\n",
      " 0.94942883 0.92945868 0.94076295 0.98633331 0.99717393 0.99757135\n",
      " 0.99287963 0.9897003  0.8004694  0.799869   0.79509974 0.78690612\n",
      " 0.7762832  0.76416034 0.75128305 0.73819083 0.7252416  0.71265286\n",
      " 0.70053875 0.68894631 0.67787975 0.66731954 0.65723455 0.64758891]\n",
      "16 day output [[0.63834745]]\n",
      "17 day input [0.94587416 0.94605079 0.95014638 0.95437445 0.95363481 0.94946194\n",
      " 0.9619695  0.95792911 0.97513943 0.97126462 0.95168085 0.94564233\n",
      " 0.93209708 0.94213183 0.94132596 0.94433969 0.93726348 0.92693067\n",
      " 0.92376238 0.91202757 0.92794629 0.93831222 0.93878691 0.93181005\n",
      " 0.92526373 0.9333114  0.92678716 0.93984669 0.94629366 0.9409175\n",
      " 0.92973466 0.93390753 0.94708849 0.9469229  0.9431916  0.94942883\n",
      " 0.92945868 0.94076295 0.98633331 0.99717393 0.99757135 0.99287963\n",
      " 0.9897003  0.8004694  0.799869   0.79509974 0.78690612 0.7762832\n",
      " 0.76416034 0.75128305 0.73819083 0.7252416  0.71265286 0.70053875\n",
      " 0.68894631 0.67787975 0.66731954 0.65723455 0.64758891 0.63834745]\n",
      "17 day output [[0.6294769]]\n",
      "18 day input [0.94605079 0.95014638 0.95437445 0.95363481 0.94946194 0.9619695\n",
      " 0.95792911 0.97513943 0.97126462 0.95168085 0.94564233 0.93209708\n",
      " 0.94213183 0.94132596 0.94433969 0.93726348 0.92693067 0.92376238\n",
      " 0.91202757 0.92794629 0.93831222 0.93878691 0.93181005 0.92526373\n",
      " 0.9333114  0.92678716 0.93984669 0.94629366 0.9409175  0.92973466\n",
      " 0.93390753 0.94708849 0.9469229  0.9431916  0.94942883 0.92945868\n",
      " 0.94076295 0.98633331 0.99717393 0.99757135 0.99287963 0.9897003\n",
      " 0.8004694  0.799869   0.79509974 0.78690612 0.7762832  0.76416034\n",
      " 0.75128305 0.73819083 0.7252416  0.71265286 0.70053875 0.68894631\n",
      " 0.67787975 0.66731954 0.65723455 0.64758891 0.63834745 0.6294769 ]\n",
      "18 day output [[0.6209476]]\n",
      "19 day input [0.95014638 0.95437445 0.95363481 0.94946194 0.9619695  0.95792911\n",
      " 0.97513943 0.97126462 0.95168085 0.94564233 0.93209708 0.94213183\n",
      " 0.94132596 0.94433969 0.93726348 0.92693067 0.92376238 0.91202757\n",
      " 0.92794629 0.93831222 0.93878691 0.93181005 0.92526373 0.9333114\n",
      " 0.92678716 0.93984669 0.94629366 0.9409175  0.92973466 0.93390753\n",
      " 0.94708849 0.9469229  0.9431916  0.94942883 0.92945868 0.94076295\n",
      " 0.98633331 0.99717393 0.99757135 0.99287963 0.9897003  0.8004694\n",
      " 0.799869   0.79509974 0.78690612 0.7762832  0.76416034 0.75128305\n",
      " 0.73819083 0.7252416  0.71265286 0.70053875 0.68894631 0.67787975\n",
      " 0.66731954 0.65723455 0.64758891 0.63834745 0.6294769  0.6209476 ]\n",
      "19 day output [[0.6127327]]\n",
      "20 day input [0.95437445 0.95363481 0.94946194 0.9619695  0.95792911 0.97513943\n",
      " 0.97126462 0.95168085 0.94564233 0.93209708 0.94213183 0.94132596\n",
      " 0.94433969 0.93726348 0.92693067 0.92376238 0.91202757 0.92794629\n",
      " 0.93831222 0.93878691 0.93181005 0.92526373 0.9333114  0.92678716\n",
      " 0.93984669 0.94629366 0.9409175  0.92973466 0.93390753 0.94708849\n",
      " 0.9469229  0.9431916  0.94942883 0.92945868 0.94076295 0.98633331\n",
      " 0.99717393 0.99757135 0.99287963 0.9897003  0.8004694  0.799869\n",
      " 0.79509974 0.78690612 0.7762832  0.76416034 0.75128305 0.73819083\n",
      " 0.7252416  0.71265286 0.70053875 0.68894631 0.67787975 0.66731954\n",
      " 0.65723455 0.64758891 0.63834745 0.6294769  0.6209476  0.61273271]\n",
      "20 day output [[0.6048094]]\n",
      "21 day input [0.95363481 0.94946194 0.9619695  0.95792911 0.97513943 0.97126462\n",
      " 0.95168085 0.94564233 0.93209708 0.94213183 0.94132596 0.94433969\n",
      " 0.93726348 0.92693067 0.92376238 0.91202757 0.92794629 0.93831222\n",
      " 0.93878691 0.93181005 0.92526373 0.9333114  0.92678716 0.93984669\n",
      " 0.94629366 0.9409175  0.92973466 0.93390753 0.94708849 0.9469229\n",
      " 0.9431916  0.94942883 0.92945868 0.94076295 0.98633331 0.99717393\n",
      " 0.99757135 0.99287963 0.9897003  0.8004694  0.799869   0.79509974\n",
      " 0.78690612 0.7762832  0.76416034 0.75128305 0.73819083 0.7252416\n",
      " 0.71265286 0.70053875 0.68894631 0.67787975 0.66731954 0.65723455\n",
      " 0.64758891 0.63834745 0.6294769  0.6209476  0.61273271 0.6048094 ]\n",
      "21 day output [[0.59715724]]\n",
      "22 day input [0.94946194 0.9619695  0.95792911 0.97513943 0.97126462 0.95168085\n",
      " 0.94564233 0.93209708 0.94213183 0.94132596 0.94433969 0.93726348\n",
      " 0.92693067 0.92376238 0.91202757 0.92794629 0.93831222 0.93878691\n",
      " 0.93181005 0.92526373 0.9333114  0.92678716 0.93984669 0.94629366\n",
      " 0.9409175  0.92973466 0.93390753 0.94708849 0.9469229  0.9431916\n",
      " 0.94942883 0.92945868 0.94076295 0.98633331 0.99717393 0.99757135\n",
      " 0.99287963 0.9897003  0.8004694  0.799869   0.79509974 0.78690612\n",
      " 0.7762832  0.76416034 0.75128305 0.73819083 0.7252416  0.71265286\n",
      " 0.70053875 0.68894631 0.67787975 0.66731954 0.65723455 0.64758891\n",
      " 0.63834745 0.6294769  0.6209476  0.61273271 0.6048094  0.59715724]\n",
      "22 day output [[0.5897584]]\n",
      "23 day input [0.9619695  0.95792911 0.97513943 0.97126462 0.95168085 0.94564233\n",
      " 0.93209708 0.94213183 0.94132596 0.94433969 0.93726348 0.92693067\n",
      " 0.92376238 0.91202757 0.92794629 0.93831222 0.93878691 0.93181005\n",
      " 0.92526373 0.9333114  0.92678716 0.93984669 0.94629366 0.9409175\n",
      " 0.92973466 0.93390753 0.94708849 0.9469229  0.9431916  0.94942883\n",
      " 0.92945868 0.94076295 0.98633331 0.99717393 0.99757135 0.99287963\n",
      " 0.9897003  0.8004694  0.799869   0.79509974 0.78690612 0.7762832\n",
      " 0.76416034 0.75128305 0.73819083 0.7252416  0.71265286 0.70053875\n",
      " 0.68894631 0.67787975 0.66731954 0.65723455 0.64758891 0.63834745\n",
      " 0.6294769  0.6209476  0.61273271 0.6048094  0.59715724 0.5897584 ]\n",
      "23 day output [[0.5825968]]\n",
      "24 day input [0.95792911 0.97513943 0.97126462 0.95168085 0.94564233 0.93209708\n",
      " 0.94213183 0.94132596 0.94433969 0.93726348 0.92693067 0.92376238\n",
      " 0.91202757 0.92794629 0.93831222 0.93878691 0.93181005 0.92526373\n",
      " 0.9333114  0.92678716 0.93984669 0.94629366 0.9409175  0.92973466\n",
      " 0.93390753 0.94708849 0.9469229  0.9431916  0.94942883 0.92945868\n",
      " 0.94076295 0.98633331 0.99717393 0.99757135 0.99287963 0.9897003\n",
      " 0.8004694  0.799869   0.79509974 0.78690612 0.7762832  0.76416034\n",
      " 0.75128305 0.73819083 0.7252416  0.71265286 0.70053875 0.68894631\n",
      " 0.67787975 0.66731954 0.65723455 0.64758891 0.63834745 0.6294769\n",
      " 0.6209476  0.61273271 0.6048094  0.59715724 0.5897584  0.58259678]\n",
      "24 day output [[0.5756585]]\n",
      "25 day input [0.97513943 0.97126462 0.95168085 0.94564233 0.93209708 0.94213183\n",
      " 0.94132596 0.94433969 0.93726348 0.92693067 0.92376238 0.91202757\n",
      " 0.92794629 0.93831222 0.93878691 0.93181005 0.92526373 0.9333114\n",
      " 0.92678716 0.93984669 0.94629366 0.9409175  0.92973466 0.93390753\n",
      " 0.94708849 0.9469229  0.9431916  0.94942883 0.92945868 0.94076295\n",
      " 0.98633331 0.99717393 0.99757135 0.99287963 0.9897003  0.8004694\n",
      " 0.799869   0.79509974 0.78690612 0.7762832  0.76416034 0.75128305\n",
      " 0.73819083 0.7252416  0.71265286 0.70053875 0.68894631 0.67787975\n",
      " 0.66731954 0.65723455 0.64758891 0.63834745 0.6294769  0.6209476\n",
      " 0.61273271 0.6048094  0.59715724 0.5897584  0.58259678 0.5756585 ]\n",
      "25 day output [[0.56893075]]\n",
      "26 day input [0.97126462 0.95168085 0.94564233 0.93209708 0.94213183 0.94132596\n",
      " 0.94433969 0.93726348 0.92693067 0.92376238 0.91202757 0.92794629\n",
      " 0.93831222 0.93878691 0.93181005 0.92526373 0.9333114  0.92678716\n",
      " 0.93984669 0.94629366 0.9409175  0.92973466 0.93390753 0.94708849\n",
      " 0.9469229  0.9431916  0.94942883 0.92945868 0.94076295 0.98633331\n",
      " 0.99717393 0.99757135 0.99287963 0.9897003  0.8004694  0.799869\n",
      " 0.79509974 0.78690612 0.7762832  0.76416034 0.75128305 0.73819083\n",
      " 0.7252416  0.71265286 0.70053875 0.68894631 0.67787975 0.66731954\n",
      " 0.65723455 0.64758891 0.63834745 0.6294769  0.6209476  0.61273271\n",
      " 0.6048094  0.59715724 0.5897584  0.58259678 0.5756585  0.56893075]\n",
      "26 day output [[0.5624022]]\n",
      "27 day input [0.95168085 0.94564233 0.93209708 0.94213183 0.94132596 0.94433969\n",
      " 0.93726348 0.92693067 0.92376238 0.91202757 0.92794629 0.93831222\n",
      " 0.93878691 0.93181005 0.92526373 0.9333114  0.92678716 0.93984669\n",
      " 0.94629366 0.9409175  0.92973466 0.93390753 0.94708849 0.9469229\n",
      " 0.9431916  0.94942883 0.92945868 0.94076295 0.98633331 0.99717393\n",
      " 0.99757135 0.99287963 0.9897003  0.8004694  0.799869   0.79509974\n",
      " 0.78690612 0.7762832  0.76416034 0.75128305 0.73819083 0.7252416\n",
      " 0.71265286 0.70053875 0.68894631 0.67787975 0.66731954 0.65723455\n",
      " 0.64758891 0.63834745 0.6294769  0.6209476  0.61273271 0.6048094\n",
      " 0.59715724 0.5897584  0.58259678 0.5756585  0.56893075 0.56240219]\n",
      "27 day output [[0.55606246]]\n",
      "28 day input [0.94564233 0.93209708 0.94213183 0.94132596 0.94433969 0.93726348\n",
      " 0.92693067 0.92376238 0.91202757 0.92794629 0.93831222 0.93878691\n",
      " 0.93181005 0.92526373 0.9333114  0.92678716 0.93984669 0.94629366\n",
      " 0.9409175  0.92973466 0.93390753 0.94708849 0.9469229  0.9431916\n",
      " 0.94942883 0.92945868 0.94076295 0.98633331 0.99717393 0.99757135\n",
      " 0.99287963 0.9897003  0.8004694  0.799869   0.79509974 0.78690612\n",
      " 0.7762832  0.76416034 0.75128305 0.73819083 0.7252416  0.71265286\n",
      " 0.70053875 0.68894631 0.67787975 0.66731954 0.65723455 0.64758891\n",
      " 0.63834745 0.6294769  0.6209476  0.61273271 0.6048094  0.59715724\n",
      " 0.5897584  0.58259678 0.5756585  0.56893075 0.56240219 0.55606246]\n",
      "28 day output [[0.5499019]]\n",
      "29 day input [0.93209708 0.94213183 0.94132596 0.94433969 0.93726348 0.92693067\n",
      " 0.92376238 0.91202757 0.92794629 0.93831222 0.93878691 0.93181005\n",
      " 0.92526373 0.9333114  0.92678716 0.93984669 0.94629366 0.9409175\n",
      " 0.92973466 0.93390753 0.94708849 0.9469229  0.9431916  0.94942883\n",
      " 0.92945868 0.94076295 0.98633331 0.99717393 0.99757135 0.99287963\n",
      " 0.9897003  0.8004694  0.799869   0.79509974 0.78690612 0.7762832\n",
      " 0.76416034 0.75128305 0.73819083 0.7252416  0.71265286 0.70053875\n",
      " 0.68894631 0.67787975 0.66731954 0.65723455 0.64758891 0.63834745\n",
      " 0.6294769  0.6209476  0.61273271 0.6048094  0.59715724 0.5897584\n",
      " 0.58259678 0.5756585  0.56893075 0.56240219 0.55606246 0.5499019 ]\n",
      "29 day output [[0.5439118]]\n",
      "[[0.8004693984985352], [0.7998690009117126], [0.7950997352600098], [0.7869061231613159], [0.7762832045555115], [0.7641603350639343], [0.7512830495834351], [0.7381908297538757], [0.7252416014671326], [0.712652862071991], [0.7005387544631958], [0.6889463067054749], [0.6778797507286072], [0.6673195362091064], [0.6572345495223999], [0.6475889086723328], [0.6383474469184875], [0.6294769048690796], [0.6209475994110107], [0.6127327084541321], [0.6048094034194946], [0.5971572399139404], [0.5897583961486816], [0.5825967788696289], [0.5756585001945496], [0.5689307451248169], [0.5624021887779236], [0.5560624599456787], [0.5499019026756287], [0.5439118146896362]]\n"
     ]
    }
   ],
   "source": [
    "from numpy import array\n",
    "lst_output = []\n",
    "n_steps = 60\n",
    "i = 0\n",
    "while(i<30):\n",
    "    \n",
    "    if(len(temp_input)>60):\n",
    "        x_input=np.array(temp_input[1:])\n",
    "        print(\"{} day input {}\".format(i,x_input))\n",
    "        x_input=x_input.reshape(1,-1)\n",
    "        x_input = x_input.reshape((1, n_steps, 1))\n",
    "        yhat = model.predict(x_input, verbose=0)\n",
    "        print(\"{} day output {}\".format(i,yhat))\n",
    "        temp_input.extend(yhat[0].tolist())\n",
    "        temp_input=temp_input[1:]\n",
    "        lst_output.extend(yhat.tolist())\n",
    "        i=i+1\n",
    "    else:\n",
    "        x_input = x_input.reshape((1, n_steps,1))\n",
    "        yhat = model.predict(x_input, verbose=0)\n",
    "        print(yhat[0])\n",
    "        temp_input.extend(yhat[0].tolist())\n",
    "        print(len(temp_input))\n",
    "        lst_output.extend(yhat.tolist())\n",
    "        i=i+1\n",
    "    \n",
    "\n",
    "print(lst_output)"
   ]
  },
  {
   "cell_type": "code",
   "execution_count": 26,
   "id": "430124e6",
   "metadata": {},
   "outputs": [],
   "source": [
    "day_new=np.arange(1,61)\n",
    "day_pred=np.arange(61,91)"
   ]
  },
  {
   "cell_type": "code",
   "execution_count": 27,
   "id": "8dbd2f48",
   "metadata": {},
   "outputs": [],
   "source": [
    "import matplotlib.pyplot as plt"
   ]
  },
  {
   "cell_type": "code",
   "execution_count": 28,
   "id": "fd24bb0f",
   "metadata": {},
   "outputs": [
    {
     "data": {
      "text/plain": [
       "3985"
      ]
     },
     "execution_count": 28,
     "metadata": {},
     "output_type": "execute_result"
    }
   ],
   "source": [
    "len(dataset)"
   ]
  },
  {
   "cell_type": "code",
   "execution_count": 29,
   "id": "702eae67",
   "metadata": {},
   "outputs": [
    {
     "data": {
      "text/plain": [
       "[<matplotlib.lines.Line2D at 0x2195ef9a100>]"
      ]
     },
     "execution_count": 29,
     "metadata": {},
     "output_type": "execute_result"
    },
    {
     "data": {
      "image/png": "[encoded data removed]",
      "text/plain": [
       "<Figure size 432x288 with 1 Axes>"
      ]
     },
     "metadata": {
      "needs_background": "light"
     },
     "output_type": "display_data"
    }
   ],
   "source": [
    "plt.plot(day_new,(dataset[3925:]))\n",
    "plt.plot(day_pred,scaler.inverse_transform(lst_output))"
   ]
  },
  {
   "cell_type": "code",
   "execution_count": 30,
   "id": "71e2c203",
   "metadata": {},
   "outputs": [
    {
     "data": {
      "text/plain": [
       "[<matplotlib.lines.Line2D at 0x2195efd85b0>]"
      ]
     },
     "execution_count": 30,
     "metadata": {},
     "output_type": "execute_result"
    },
    {
     "data": {
      "image/png": "[encoded data removed]",
      "text/plain": [
       "<Figure size 432x288 with 1 Axes>"
      ]
     },
     "metadata": {
      "needs_background": "light"
     },
     "output_type": "display_data"
    }
   ],
   "source": [
    "df3=dataset.tolist()\n",
    "df3.extend(scaler.inverse_transform(lst_output))\n",
    "plt.plot(df3[3400:])"
   ]
  },
  {
   "cell_type": "code",
   "execution_count": 31,
   "id": "76a9b8ee",
   "metadata": {},
   "outputs": [
    {
     "data": {
      "text/plain": [
       "[<matplotlib.lines.Line2D at 0x2195efce1c0>]"
      ]
     },
     "execution_count": 31,
     "metadata": {},
     "output_type": "execute_result"
    },
    {
     "data": {
      "image/png": "[encoded data removed]",
      "text/plain": [
       "<Figure size 432x288 with 1 Axes>"
      ]
     },
     "metadata": {
      "needs_background": "light"
     },
     "output_type": "display_data"
    }
   ],
   "source": [
    "plt.plot(df3)"
   ]
  },
  {
   "cell_type": "code",
   "execution_count": null,
   "id": "976628d9",
   "metadata": {},
   "outputs": [],
   "source": []
  }
 ],
 "metadata": {
  "kernelspec": {
   "display_name": "Python 3 (ipykernel)",
   "language": "python",
   "name": "python3"
  },
  "language_info": {
   "codemirror_mode": {
    "name": "ipython",
    "version": 3
   },
   "file_extension": ".py",
   "mimetype": "text/x-python",
   "name": "python",
   "nbconvert_exporter": "python",
   "pygments_lexer": "ipython3",
   "version": "3.9.12"
  }
 },
 "nbformat": 4,
 "nbformat_minor": 5
}
