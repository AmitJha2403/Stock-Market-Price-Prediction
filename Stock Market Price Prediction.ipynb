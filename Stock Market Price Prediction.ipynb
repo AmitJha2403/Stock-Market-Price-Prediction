{
 "cells": [
  {
   "cell_type": "markdown",
   "id": "d23b99e6",
   "metadata": {},
   "source": [
    "# Here we analyse and predict the stock price data of Britannia Industries"
   ]
  },
  {
   "cell_type": "code",
   "execution_count": 13,
   "id": "809809ed",
   "metadata": {},
   "outputs": [],
   "source": [
    "# Importing math will give us function like ceil with\n",
    "#       which we can convert float to integer values \n",
    "import math\n",
    "\n",
    "# numpy library will help in performing mathematical functinos easily on datasets\n",
    "import numpy as np\n",
    "\n",
    "# pandas will help in managing datasets and provides functions for\n",
    "#        analyzing, cleaning, exploring, and manipulating data\n",
    "import pandas as pd\n",
    "\n",
    "# Importing MinMaxScaler will help in scaling each feature to a given range\n",
    "from sklearn.preprocessing import MinMaxScaler\n",
    "\n",
    "# The following models are imported to train an ML model and predict data\n",
    "# The LSTM is capable of learning long-term dependencies, this helps in \n",
    "#         predicting data with a long history of training data\n",
    "from keras.models import Sequential\n",
    "from keras.layers import Dense,LSTM\n",
    "\n",
    "#Using matlotlib makes data visualization becomes easy\n",
    "import matplotlib.pyplot as plt"
   ]
  },
  {
   "cell_type": "code",
   "execution_count": 4,
   "id": "b015c18e",
   "metadata": {
    "scrolled": true
   },
   "outputs": [
    {
     "data": {
      "text/html": [
       "<div>\n",
       "<style scoped>\n",
       "    .dataframe tbody tr th:only-of-type {\n",
       "        vertical-align: middle;\n",
       "    }\n",
       "\n",
       "    .dataframe tbody tr th {\n",
       "        vertical-align: top;\n",
       "    }\n",
       "\n",
       "    .dataframe thead th {\n",
       "        text-align: right;\n",
       "    }\n",
       "</style>\n",
       "<table border=\"1\" class=\"dataframe\">\n",
       "  <thead>\n",
       "    <tr style=\"text-align: right;\">\n",
       "      <th></th>\n",
       "      <th>DATE</th>\n",
       "      <th>OPEN</th>\n",
       "      <th>HIGH</th>\n",
       "      <th>LOW</th>\n",
       "      <th>CLOSE</th>\n",
       "      <th>NO. OF SHARES</th>\n",
       "      <th>NO. OF TRADES</th>\n",
       "      <th>Market Capitalization</th>\n",
       "    </tr>\n",
       "  </thead>\n",
       "  <tbody>\n",
       "    <tr>\n",
       "      <th>0</th>\n",
       "      <td>09-02-2023</td>\n",
       "      <td>4626.90</td>\n",
       "      <td>4658.00</td>\n",
       "      <td>4585.00</td>\n",
       "      <td>4637.60</td>\n",
       "      <td>1722</td>\n",
       "      <td>607</td>\n",
       "      <td>7.958223e+06</td>\n",
       "    </tr>\n",
       "    <tr>\n",
       "      <th>1</th>\n",
       "      <td>08-02-2023</td>\n",
       "      <td>4597.05</td>\n",
       "      <td>4637.05</td>\n",
       "      <td>4578.00</td>\n",
       "      <td>4590.95</td>\n",
       "      <td>3670</td>\n",
       "      <td>906</td>\n",
       "      <td>1.690962e+07</td>\n",
       "    </tr>\n",
       "    <tr>\n",
       "      <th>2</th>\n",
       "      <td>07-02-2023</td>\n",
       "      <td>4630.00</td>\n",
       "      <td>4661.50</td>\n",
       "      <td>4595.95</td>\n",
       "      <td>4605.35</td>\n",
       "      <td>5979</td>\n",
       "      <td>1589</td>\n",
       "      <td>2.767515e+07</td>\n",
       "    </tr>\n",
       "    <tr>\n",
       "      <th>3</th>\n",
       "      <td>06-02-2023</td>\n",
       "      <td>4602.00</td>\n",
       "      <td>4634.10</td>\n",
       "      <td>4602.00</td>\n",
       "      <td>4626.60</td>\n",
       "      <td>4502</td>\n",
       "      <td>1230</td>\n",
       "      <td>2.079046e+07</td>\n",
       "    </tr>\n",
       "    <tr>\n",
       "      <th>4</th>\n",
       "      <td>03-02-2023</td>\n",
       "      <td>4590.00</td>\n",
       "      <td>4656.45</td>\n",
       "      <td>4571.50</td>\n",
       "      <td>4624.80</td>\n",
       "      <td>26221</td>\n",
       "      <td>4118</td>\n",
       "      <td>1.209830e+08</td>\n",
       "    </tr>\n",
       "  </tbody>\n",
       "</table>\n",
       "</div>"
      ],
      "text/plain": [
       "         DATE     OPEN     HIGH      LOW    CLOSE  NO. OF SHARES  \\\n",
       "0  09-02-2023  4626.90  4658.00  4585.00  4637.60           1722   \n",
       "1  08-02-2023  4597.05  4637.05  4578.00  4590.95           3670   \n",
       "2  07-02-2023  4630.00  4661.50  4595.95  4605.35           5979   \n",
       "3  06-02-2023  4602.00  4634.10  4602.00  4626.60           4502   \n",
       "4  03-02-2023  4590.00  4656.45  4571.50  4624.80          26221   \n",
       "\n",
       "   NO. OF TRADES  Market Capitalization  \n",
       "0            607           7.958223e+06  \n",
       "1            906           1.690962e+07  \n",
       "2           1589           2.767515e+07  \n",
       "3           1230           2.079046e+07  \n",
       "4           4118           1.209830e+08  "
      ]
     },
     "execution_count": 4,
     "metadata": {},
     "output_type": "execute_result"
    }
   ],
   "source": [
    "# Storing data from the csv file in df\n",
    "df = pd.read_csv(\"STOCK_VAL.csv\")\n",
    "df.head()"
   ]
  },
  {
   "cell_type": "markdown",
   "id": "3cdeb2e7",
   "metadata": {},
   "source": [
    "### Cleaning the data for analysis and prediction"
   ]
  },
  {
   "cell_type": "code",
   "execution_count": 8,
   "id": "0ea1ba53",
   "metadata": {},
   "outputs": [
    {
     "data": {
      "text/html": [
       "<div>\n",
       "<style scoped>\n",
       "    .dataframe tbody tr th:only-of-type {\n",
       "        vertical-align: middle;\n",
       "    }\n",
       "\n",
       "    .dataframe tbody tr th {\n",
       "        vertical-align: top;\n",
       "    }\n",
       "\n",
       "    .dataframe thead th {\n",
       "        text-align: right;\n",
       "    }\n",
       "</style>\n",
       "<table border=\"1\" class=\"dataframe\">\n",
       "  <thead>\n",
       "    <tr style=\"text-align: right;\">\n",
       "      <th></th>\n",
       "      <th>DATE</th>\n",
       "      <th>OPEN</th>\n",
       "      <th>HIGH</th>\n",
       "      <th>LOW</th>\n",
       "      <th>CLOSE</th>\n",
       "      <th>NO. OF SHARES</th>\n",
       "      <th>NO. OF TRADES</th>\n",
       "      <th>Market Capitalization</th>\n",
       "    </tr>\n",
       "  </thead>\n",
       "  <tbody>\n",
       "    <tr>\n",
       "      <th>0</th>\n",
       "      <td>02-01-2007</td>\n",
       "      <td>112.0</td>\n",
       "      <td>112.0</td>\n",
       "      <td>109.5</td>\n",
       "      <td>109.72</td>\n",
       "      <td>1010</td>\n",
       "      <td>59</td>\n",
       "      <td>111857.5</td>\n",
       "    </tr>\n",
       "    <tr>\n",
       "      <th>1</th>\n",
       "      <td>03-01-2007</td>\n",
       "      <td>110.2</td>\n",
       "      <td>111.4</td>\n",
       "      <td>109.2</td>\n",
       "      <td>109.51</td>\n",
       "      <td>1139</td>\n",
       "      <td>70</td>\n",
       "      <td>125631.7</td>\n",
       "    </tr>\n",
       "    <tr>\n",
       "      <th>2</th>\n",
       "      <td>04-01-2007</td>\n",
       "      <td>110.0</td>\n",
       "      <td>111.8</td>\n",
       "      <td>109.0</td>\n",
       "      <td>110.13</td>\n",
       "      <td>2999</td>\n",
       "      <td>99</td>\n",
       "      <td>331089.6</td>\n",
       "    </tr>\n",
       "    <tr>\n",
       "      <th>3</th>\n",
       "      <td>05-01-2007</td>\n",
       "      <td>110.68</td>\n",
       "      <td>112.0</td>\n",
       "      <td>110.0</td>\n",
       "      <td>110.1</td>\n",
       "      <td>1013</td>\n",
       "      <td>72</td>\n",
       "      <td>112443.0</td>\n",
       "    </tr>\n",
       "    <tr>\n",
       "      <th>4</th>\n",
       "      <td>08-01-2007</td>\n",
       "      <td>109.5</td>\n",
       "      <td>113.8</td>\n",
       "      <td>109.06</td>\n",
       "      <td>110.04</td>\n",
       "      <td>1394</td>\n",
       "      <td>60</td>\n",
       "      <td>155333.42</td>\n",
       "    </tr>\n",
       "    <tr>\n",
       "      <th>...</th>\n",
       "      <td>...</td>\n",
       "      <td>...</td>\n",
       "      <td>...</td>\n",
       "      <td>...</td>\n",
       "      <td>...</td>\n",
       "      <td>...</td>\n",
       "      <td>...</td>\n",
       "      <td>...</td>\n",
       "    </tr>\n",
       "    <tr>\n",
       "      <th>3980</th>\n",
       "      <td>03-02-2023</td>\n",
       "      <td>4590.0</td>\n",
       "      <td>4656.45</td>\n",
       "      <td>4571.5</td>\n",
       "      <td>4624.8</td>\n",
       "      <td>26221</td>\n",
       "      <td>4118</td>\n",
       "      <td>120983038.475</td>\n",
       "    </tr>\n",
       "    <tr>\n",
       "      <th>3981</th>\n",
       "      <td>06-02-2023</td>\n",
       "      <td>4602.0</td>\n",
       "      <td>4634.1</td>\n",
       "      <td>4602.0</td>\n",
       "      <td>4626.6</td>\n",
       "      <td>4502</td>\n",
       "      <td>1230</td>\n",
       "      <td>20790461.1</td>\n",
       "    </tr>\n",
       "    <tr>\n",
       "      <th>3982</th>\n",
       "      <td>07-02-2023</td>\n",
       "      <td>4630.0</td>\n",
       "      <td>4661.5</td>\n",
       "      <td>4595.95</td>\n",
       "      <td>4605.35</td>\n",
       "      <td>5979</td>\n",
       "      <td>1589</td>\n",
       "      <td>27675146.775</td>\n",
       "    </tr>\n",
       "    <tr>\n",
       "      <th>3983</th>\n",
       "      <td>08-02-2023</td>\n",
       "      <td>4597.05</td>\n",
       "      <td>4637.05</td>\n",
       "      <td>4578.0</td>\n",
       "      <td>4590.95</td>\n",
       "      <td>3670</td>\n",
       "      <td>906</td>\n",
       "      <td>16909616.75</td>\n",
       "    </tr>\n",
       "    <tr>\n",
       "      <th>3984</th>\n",
       "      <td>09-02-2023</td>\n",
       "      <td>4626.9</td>\n",
       "      <td>4658.0</td>\n",
       "      <td>4585.0</td>\n",
       "      <td>4637.6</td>\n",
       "      <td>1722</td>\n",
       "      <td>607</td>\n",
       "      <td>7958223.0</td>\n",
       "    </tr>\n",
       "  </tbody>\n",
       "</table>\n",
       "<p>3985 rows × 8 columns</p>\n",
       "</div>"
      ],
      "text/plain": [
       "            DATE     OPEN     HIGH      LOW    CLOSE NO. OF SHARES  \\\n",
       "0     02-01-2007    112.0    112.0    109.5   109.72          1010   \n",
       "1     03-01-2007    110.2    111.4    109.2   109.51          1139   \n",
       "2     04-01-2007    110.0    111.8    109.0   110.13          2999   \n",
       "3     05-01-2007   110.68    112.0    110.0    110.1          1013   \n",
       "4     08-01-2007    109.5    113.8   109.06   110.04          1394   \n",
       "...          ...      ...      ...      ...      ...           ...   \n",
       "3980  03-02-2023   4590.0  4656.45   4571.5   4624.8         26221   \n",
       "3981  06-02-2023   4602.0   4634.1   4602.0   4626.6          4502   \n",
       "3982  07-02-2023   4630.0   4661.5  4595.95  4605.35          5979   \n",
       "3983  08-02-2023  4597.05  4637.05   4578.0  4590.95          3670   \n",
       "3984  09-02-2023   4626.9   4658.0   4585.0   4637.6          1722   \n",
       "\n",
       "     NO. OF TRADES Market Capitalization  \n",
       "0               59              111857.5  \n",
       "1               70              125631.7  \n",
       "2               99              331089.6  \n",
       "3               72              112443.0  \n",
       "4               60             155333.42  \n",
       "...            ...                   ...  \n",
       "3980          4118         120983038.475  \n",
       "3981          1230            20790461.1  \n",
       "3982          1589          27675146.775  \n",
       "3983           906           16909616.75  \n",
       "3984           607             7958223.0  \n",
       "\n",
       "[3985 rows x 8 columns]"
      ]
     },
     "execution_count": 8,
     "metadata": {},
     "output_type": "execute_result"
    }
   ],
   "source": [
    "# Now we needed data in the descending order of dates,\n",
    "#     so we flip the table using flipud and then,\n",
    "#     convert it into dataset using pd.DataFrame\n",
    "df = np.flipud(df)\n",
    "df = pd.DataFrame(df)\n",
    "\n",
    "# Now restoring the column names as the columns after flipping\n",
    "#     and converting to dataframe becomes 0,1,2,3, etc.\n",
    "df['DATE'] = df[0]\n",
    "df['OPEN'] = df[1]\n",
    "df['HIGH'] = df[2]\n",
    "df['LOW'] = df[3]\n",
    "df['CLOSE'] = df[4]\n",
    "df['NO. OF SHARES'] = df[5]\n",
    "df['NO. OF TRADES'] = df[6]\n",
    "df['Market Capitalization'] = df[7]\n",
    "df = df.drop(df[[0,1,2,3,4,5,6,7]], axis = 'columns')\n",
    "\n",
    "df"
   ]
  },
  {
   "cell_type": "markdown",
   "id": "1350bdc1",
   "metadata": {},
   "source": [
    "#####  Data Visualisation"
   ]
  },
  {
   "cell_type": "code",
   "execution_count": 9,
   "id": "6e44ede8",
   "metadata": {
    "scrolled": false
   },
   "outputs": [
    {
     "data": {
      "image/png": "[encoded data removed]",
      "text/plain": [
       "<Figure size 1152x576 with 1 Axes>"
      ]
     },
     "metadata": {
      "needs_background": "light"
     },
     "output_type": "display_data"
    }
   ],
   "source": [
    "# Plotting the closing price will give a pretty good\n",
    "#          idea about the stock price over the years\n",
    "plt.figure(figsize=(16,8))\n",
    "plt.title('Closing price history')\n",
    "plt.plot(df['CLOSE'])\n",
    "plt.ylabel('Closing price')\n",
    "plt.show()"
   ]
  },
  {
   "cell_type": "markdown",
   "id": "65bad5df",
   "metadata": {},
   "source": [
    " Here we can see that the stock price is growing over \n",
    "      the years but if you notice closely, then you can \n",
    "      notice that everytime after reaching a peak, the \n",
    "      stock prices have dropped steaply.\n",
    "\n",
    " Thus we can conclude that, if the peak is reached the \n",
    "      stock price may drop and if not, the stock price\n",
    "      price will go up. \n",
    "\n",
    " The model will understand the data over the years and\n",
    "     predict if the peak has reached or not."
   ]
  },
  {
   "cell_type": "markdown",
   "id": "bb1cc8c1",
   "metadata": {},
   "source": [
    "### Creating dataset for model to train"
   ]
  },
  {
   "cell_type": "code",
   "execution_count": 12,
   "id": "9417738b",
   "metadata": {},
   "outputs": [
    {
     "data": {
      "text/plain": [
       "3188"
      ]
     },
     "execution_count": 12,
     "metadata": {},
     "output_type": "execute_result"
    }
   ],
   "source": [
    "# Storing closing price data values in dataset\n",
    "data = df.filter(['CLOSE'])\n",
    "dataset = data.values\n",
    "\n",
    "# Here we will be using 80% data to train \n",
    "#      and the remaining to test\n",
    "training_data_len = math.ceil( len(dataset)*(0.8))\n",
    "training_data_len"
   ]
  },
  {
   "cell_type": "code",
   "execution_count": 7,
   "id": "ab70d185",
   "metadata": {},
   "outputs": [
    {
     "data": {
      "text/plain": [
       "array([[3.04685534e-04],\n",
       "       [2.58320344e-04],\n",
       "       [3.95208047e-04],\n",
       "       ...,\n",
       "       [9.92879632e-01],\n",
       "       [9.89700304e-01],\n",
       "       [1.00000000e+00]])"
      ]
     },
     "execution_count": 7,
     "metadata": {},
     "output_type": "execute_result"
    }
   ],
   "source": [
    "# Scaling the closing price data is important otherwise \n",
    "#         we might get skewed results\n",
    "scaler = MinMaxScaler(feature_range=(0,1))\n",
    "scaled_data = scaler.fit_transform(dataset)\n",
    "scaled_data"
   ]
  },
  {
   "cell_type": "code",
   "execution_count": 8,
   "id": "1718907d",
   "metadata": {},
   "outputs": [],
   "source": [
    "# Storing the data which we will be using for \n",
    "#         training in x_train and y_train\n",
    "\n",
    "train_data = scaled_data[0:training_data_len , :]\n",
    "\n",
    "x_train = []\n",
    "y_train = []\n",
    "\n",
    "for i in range(60, len(train_data)):\n",
    "    x_train.append(train_data[i-60:i, 0])\n",
    "    y_train.append(train_data[i,0])"
   ]
  },
  {
   "cell_type": "code",
   "execution_count": 9,
   "id": "86803bd1",
   "metadata": {},
   "outputs": [
    {
     "data": {
      "text/plain": [
       "(3128, 60, 1)"
      ]
     },
     "execution_count": 9,
     "metadata": {},
     "output_type": "execute_result"
    }
   ],
   "source": [
    "# Converting the lists into numpy arrays and reshaping them\n",
    "x_train, y_train = np.array(x_train), np.array(y_train)\n",
    "\n",
    "x_train = np.reshape(x_train, (x_train.shape[0], x_train.shape[1], 1))\n",
    "x_train.shape"
   ]
  },
  {
   "cell_type": "markdown",
   "id": "25350e65",
   "metadata": {},
   "source": [
    "### Training & Testing of the Model"
   ]
  },
  {
   "cell_type": "code",
   "execution_count": 10,
   "id": "14b6939f",
   "metadata": {},
   "outputs": [],
   "source": [
    "# Training the model for predicting data using Sequential\n",
    "model = Sequential()\n",
    "model.add(LSTM(50, return_sequences=True, input_shape=(x_train.shape[1], 1)))\n",
    "model.add(LSTM(50, return_sequences=False))\n",
    "model.add(Dense(25))\n",
    "model.add(Dense(1))"
   ]
  },
  {
   "cell_type": "code",
   "execution_count": 11,
   "id": "0ccad09d",
   "metadata": {},
   "outputs": [],
   "source": [
    "model.compile(optimizer='adam', loss='mean_squared_error')"
   ]
  },
  {
   "cell_type": "code",
   "execution_count": 12,
   "id": "d94fc3bd",
   "metadata": {},
   "outputs": [
    {
     "name": "stdout",
     "output_type": "stream",
     "text": [
      "3128/3128 [==============================] - 132s 40ms/step - loss: 6.0523e-04\n"
     ]
    },
    {
     "data": {
      "text/plain": [
       "<keras.callbacks.History at 0x1e09781dbe0>"
      ]
     },
     "execution_count": 12,
     "metadata": {},
     "output_type": "execute_result"
    }
   ],
   "source": [
    "model.fit(x_train, y_train, batch_size=1, epochs=1)"
   ]
  },
  {
   "cell_type": "code",
   "execution_count": 13,
   "id": "a21d2720",
   "metadata": {},
   "outputs": [],
   "source": [
    "# Testing data created using the remaining values of the dataset\n",
    "test_data = scaled_data[training_data_len - 60:, :]\n",
    "\n",
    "# Here what we are doing is, first we make a set of 60 dataset values\n",
    "#      and then using the 61st dataset value as the 'to be predicted data'\n",
    "x_test = []\n",
    "y_test = dataset[training_data_len:, :]\n",
    "for i in range(60, len(test_data)):\n",
    "    x_test.append(test_data[i-60:i,0])"
   ]
  },
  {
   "cell_type": "code",
   "execution_count": 14,
   "id": "fdc341bb",
   "metadata": {},
   "outputs": [],
   "source": [
    "x_test = np.array(x_test)"
   ]
  },
  {
   "cell_type": "code",
   "execution_count": 15,
   "id": "54ad747b",
   "metadata": {},
   "outputs": [
    {
     "data": {
      "text/plain": [
       "array([[0.51558312, 0.52065017, 0.53502338, ..., 0.66523229, 0.66405108,\n",
       "        0.65422608],\n",
       "       [0.52065017, 0.53502338, 0.56951025, ..., 0.66405108, 0.65422608,\n",
       "        0.64351793],\n",
       "       [0.53502338, 0.56951025, 0.57273374, ..., 0.65422608, 0.64351793,\n",
       "        0.64692908],\n",
       "       ...,\n",
       "       [0.8973011 , 0.88924239, 0.88055444, ..., 0.98633331, 0.99717393,\n",
       "        0.99757135],\n",
       "       [0.88924239, 0.88055444, 0.88184604, ..., 0.99717393, 0.99757135,\n",
       "        0.99287963],\n",
       "       [0.88055444, 0.88184604, 0.89003722, ..., 0.99757135, 0.99287963,\n",
       "        0.9897003 ]])"
      ]
     },
     "execution_count": 15,
     "metadata": {},
     "output_type": "execute_result"
    }
   ],
   "source": [
    "x_test"
   ]
  },
  {
   "cell_type": "code",
   "execution_count": 16,
   "id": "644858c2",
   "metadata": {},
   "outputs": [],
   "source": [
    "# x_test dataset is reshapd so that it can be predicted using the model\n",
    "x_test = np.reshape(x_test, (x_test.shape[0], x_test.shape[1], 1))"
   ]
  },
  {
   "cell_type": "code",
   "execution_count": 17,
   "id": "b55eac67",
   "metadata": {},
   "outputs": [
    {
     "name": "stdout",
     "output_type": "stream",
     "text": [
      "25/25 [==============================] - 3s 27ms/step\n"
     ]
    }
   ],
   "source": [
    "# storing the values predicted using the x_test dataset in predictions\n",
    "predictions = model.predict(x_test)\n",
    "predictions = scaler.inverse_transform(predictions)"
   ]
  },
  {
   "cell_type": "code",
   "execution_count": 18,
   "id": "07b37bed",
   "metadata": {
    "scrolled": true
   },
   "outputs": [
    {
     "data": {
      "text/plain": [
       "1.9937571679932227"
      ]
     },
     "execution_count": 18,
     "metadata": {},
     "output_type": "execute_result"
    }
   ],
   "source": [
    "# Calculating the root mean square error(rsme) the \n",
    "#        predicted datset and real values\n",
    "rmse = np.sqrt(np.mean(predictions - y_test)**2)\n",
    "rmse"
   ]
  },
  {
   "cell_type": "markdown",
   "id": "24d53ed6",
   "metadata": {},
   "source": [
    "Low error means that the model was trained perfectly and\n",
    "    is able to give pretty good results"
   ]
  },
  {
   "cell_type": "code",
   "execution_count": 19,
   "id": "44f9d648",
   "metadata": {},
   "outputs": [
    {
     "name": "stderr",
     "output_type": "stream",
     "text": [
      "C:\\Users\\Amit Jha\\AppData\\Local\\Temp\\ipykernel_24092\\2134025626.py:3: SettingWithCopyWarning: \n",
      "A value is trying to be set on a copy of a slice from a DataFrame.\n",
      "Try using .loc[row_indexer,col_indexer] = value instead\n",
      "\n",
      "See the caveats in the documentation: https://pandas.pydata.org/pandas-docs/stable/user_guide/indexing.html#returning-a-view-versus-a-copy\n",
      "  valid['PREDICTIONS'] = predictions\n"
     ]
    },
    {
     "data": {
      "image/png": "[encoded data removed]",
      "text/plain": [
       "<Figure size 1152x576 with 1 Axes>"
      ]
     },
     "metadata": {
      "needs_background": "light"
     },
     "output_type": "display_data"
    }
   ],
   "source": [
    "# Now we will plot the original data and the data predicted\n",
    "#     side by side so that we can see the accuracy of the model\n",
    "\n",
    "train = data[:training_data_len]\n",
    "valid = data[training_data_len:]\n",
    "valid['PREDICTIONS'] = predictions\n",
    "\n",
    "plt.figure(figsize=(16,8))\n",
    "plt.title('Model')\n",
    "plt.xlabel('Date', fontsize=18)\n",
    "plt.ylabel('Close Price', fontsize=18)\n",
    "plt.plot(train['CLOSE'])\n",
    "plt.plot(valid[['CLOSE', 'PREDICTIONS']])\n",
    "plt.legend(['Train', 'Val', 'Predictions'], loc='lower right')\n",
    "plt.show()"
   ]
  },
  {
   "cell_type": "code",
   "execution_count": 23,
   "id": "8bf56ea9",
   "metadata": {},
   "outputs": [
    {
     "name": "stderr",
     "output_type": "stream",
     "text": [
      "C:\\Users\\Amit Jha\\AppData\\Local\\Temp\\ipykernel_24092\\845364899.py:1: SettingWithCopyWarning: \n",
      "A value is trying to be set on a copy of a slice from a DataFrame.\n",
      "Try using .loc[row_indexer,col_indexer] = value instead\n",
      "\n",
      "See the caveats in the documentation: https://pandas.pydata.org/pandas-docs/stable/user_guide/indexing.html#returning-a-view-versus-a-copy\n",
      "  valid['DATE'] = df.DATE[3188:]\n"
     ]
    },
    {
     "data": {
      "text/html": [
       "<div>\n",
       "<style scoped>\n",
       "    .dataframe tbody tr th:only-of-type {\n",
       "        vertical-align: middle;\n",
       "    }\n",
       "\n",
       "    .dataframe tbody tr th {\n",
       "        vertical-align: top;\n",
       "    }\n",
       "\n",
       "    .dataframe thead th {\n",
       "        text-align: right;\n",
       "    }\n",
       "</style>\n",
       "<table border=\"1\" class=\"dataframe\">\n",
       "  <thead>\n",
       "    <tr style=\"text-align: right;\">\n",
       "      <th></th>\n",
       "      <th>CLOSE</th>\n",
       "      <th>PREDICTIONS</th>\n",
       "      <th>DATE</th>\n",
       "    </tr>\n",
       "  </thead>\n",
       "  <tbody>\n",
       "    <tr>\n",
       "      <th>3188</th>\n",
       "      <td>3023.0</td>\n",
       "      <td>3204.389648</td>\n",
       "      <td>22-11-2019</td>\n",
       "    </tr>\n",
       "    <tr>\n",
       "      <th>3189</th>\n",
       "      <td>3038.45</td>\n",
       "      <td>3181.885010</td>\n",
       "      <td>25-11-2019</td>\n",
       "    </tr>\n",
       "    <tr>\n",
       "      <th>3190</th>\n",
       "      <td>3054.5</td>\n",
       "      <td>3161.843018</td>\n",
       "      <td>26-11-2019</td>\n",
       "    </tr>\n",
       "    <tr>\n",
       "      <th>3191</th>\n",
       "      <td>3091.15</td>\n",
       "      <td>3147.008057</td>\n",
       "      <td>27-11-2019</td>\n",
       "    </tr>\n",
       "    <tr>\n",
       "      <th>3192</th>\n",
       "      <td>3097.3</td>\n",
       "      <td>3140.400879</td>\n",
       "      <td>28-11-2019</td>\n",
       "    </tr>\n",
       "    <tr>\n",
       "      <th>...</th>\n",
       "      <td>...</td>\n",
       "      <td>...</td>\n",
       "      <td>...</td>\n",
       "    </tr>\n",
       "    <tr>\n",
       "      <th>3980</th>\n",
       "      <td>4624.8</td>\n",
       "      <td>4305.891602</td>\n",
       "      <td>03-02-2023</td>\n",
       "    </tr>\n",
       "    <tr>\n",
       "      <th>3981</th>\n",
       "      <td>4626.6</td>\n",
       "      <td>4339.889648</td>\n",
       "      <td>06-02-2023</td>\n",
       "    </tr>\n",
       "    <tr>\n",
       "      <th>3982</th>\n",
       "      <td>4605.35</td>\n",
       "      <td>4374.593262</td>\n",
       "      <td>07-02-2023</td>\n",
       "    </tr>\n",
       "    <tr>\n",
       "      <th>3983</th>\n",
       "      <td>4590.95</td>\n",
       "      <td>4402.941895</td>\n",
       "      <td>08-02-2023</td>\n",
       "    </tr>\n",
       "    <tr>\n",
       "      <th>3984</th>\n",
       "      <td>4637.6</td>\n",
       "      <td>4423.537109</td>\n",
       "      <td>09-02-2023</td>\n",
       "    </tr>\n",
       "  </tbody>\n",
       "</table>\n",
       "<p>797 rows × 3 columns</p>\n",
       "</div>"
      ],
      "text/plain": [
       "        CLOSE  PREDICTIONS        DATE\n",
       "3188   3023.0  3204.389648  22-11-2019\n",
       "3189  3038.45  3181.885010  25-11-2019\n",
       "3190   3054.5  3161.843018  26-11-2019\n",
       "3191  3091.15  3147.008057  27-11-2019\n",
       "3192   3097.3  3140.400879  28-11-2019\n",
       "...       ...          ...         ...\n",
       "3980   4624.8  4305.891602  03-02-2023\n",
       "3981   4626.6  4339.889648  06-02-2023\n",
       "3982  4605.35  4374.593262  07-02-2023\n",
       "3983  4590.95  4402.941895  08-02-2023\n",
       "3984   4637.6  4423.537109  09-02-2023\n",
       "\n",
       "[797 rows x 3 columns]"
      ]
     },
     "execution_count": 23,
     "metadata": {},
     "output_type": "execute_result"
    }
   ],
   "source": [
    "# Here we can see the data predicted along with the original data\n",
    "valid['DATE'] = df.DATE[3188:]\n",
    "valid"
   ]
  },
  {
   "cell_type": "markdown",
   "id": "ee1663dd",
   "metadata": {},
   "source": [
    "### Predicting the future 30 days data paoints\n",
    "##### So right now, we have the data available till 9th Feb.\n",
    "##### We will predict data for the next 30 days, ir, till 9th Mar."
   ]
  },
  {
   "cell_type": "code",
   "execution_count": 24,
   "id": "9d45b0ca",
   "metadata": {},
   "outputs": [
    {
     "data": {
      "text/plain": [
       "797"
      ]
     },
     "execution_count": 24,
     "metadata": {},
     "output_type": "execute_result"
    }
   ],
   "source": [
    "len(x_test)"
   ]
  },
  {
   "cell_type": "code",
   "execution_count": 25,
   "id": "8bd4e086",
   "metadata": {},
   "outputs": [
    {
     "data": {
      "text/plain": [
       "(1, 60)"
      ]
     },
     "execution_count": 25,
     "metadata": {},
     "output_type": "execute_result"
    }
   ],
   "source": [
    "# Storing the last data set from the x_test in x_input\n",
    "x_input = x_test[796].reshape(1,-1)\n",
    "x_input.shape"
   ]
  },
  {
   "cell_type": "code",
   "execution_count": 26,
   "id": "98179106",
   "metadata": {},
   "outputs": [],
   "source": [
    "temp_input = list(x_input)\n",
    "temp_input = temp_input[0].tolist()"
   ]
  },
  {
   "cell_type": "code",
   "execution_count": 27,
   "id": "08f80c42",
   "metadata": {
    "scrolled": true
   },
   "outputs": [
    {
     "data": {
      "text/plain": [
       "[0.8805544393565395,\n",
       " 0.8818460410751424,\n",
       " 0.89003722462389,\n",
       " 0.8885579542795071,\n",
       " 0.8867033466835641,\n",
       " 0.8822655356504153,\n",
       " 0.8862507341155066,\n",
       " 0.8938237151322732,\n",
       " 0.8930951192910099,\n",
       " 0.9024454325872218,\n",
       " 0.9060663331316815,\n",
       " 0.9216759470642004,\n",
       " 0.9371199710327957,\n",
       " 0.9474196667888352,\n",
       " 0.9530828435550178,\n",
       " 0.9482586559393807,\n",
       " 0.9530386862313048,\n",
       " 0.9458741604588828,\n",
       " 0.9460507897537346,\n",
       " 0.9501463815281084,\n",
       " 0.9543744452736208,\n",
       " 0.9536348101014295,\n",
       " 0.949461943010558,\n",
       " 0.9619695049522439,\n",
       " 0.9579291098325113,\n",
       " 0.9751394267496235,\n",
       " 0.9712646215938143,\n",
       " 0.9516808485271324,\n",
       " 0.94564233450939,\n",
       " 0.9320970754604505,\n",
       " 0.9421318272742125,\n",
       " 0.9413259561164518,\n",
       " 0.9443396934598588,\n",
       " 0.9372634823348626,\n",
       " 0.9269306685860382,\n",
       " 0.923762380609636,\n",
       " 0.9120275718329263,\n",
       " 0.9279462870314356,\n",
       " 0.9383122187730445,\n",
       " 0.9387869100029586,\n",
       " 0.9318100528563165,\n",
       " 0.9252637296158754,\n",
       " 0.9333114018625559,\n",
       " 0.9267871572839713,\n",
       " 0.9398466857720686,\n",
       " 0.9462936550341557,\n",
       " 0.9409175008721071,\n",
       " 0.929734658641809,\n",
       " 0.9339075257326803,\n",
       " 0.9470884868609882,\n",
       " 0.9469228968970648,\n",
       " 0.9431916030433227,\n",
       " 0.9494288250177734,\n",
       " 0.9294586753686033,\n",
       " 0.9407629502391119,\n",
       " 0.9863333083108499,\n",
       " 0.9971739312823729,\n",
       " 0.9975713471957892,\n",
       " 0.9928796315512909,\n",
       " 0.9897003042439603]"
      ]
     },
     "execution_count": 27,
     "metadata": {},
     "output_type": "execute_result"
    }
   ],
   "source": [
    "temp_input"
   ]
  },
  {
   "cell_type": "markdown",
   "id": "5e01e946",
   "metadata": {},
   "source": [
    "Now what we will do is, we use the last 60 datapoints to\n",
    "    predict the 61st datapoint and add it to the list.\n",
    "Then again use the last 60 points, removing the 1st point,\n",
    "    and predict data for the 62nd point.\n",
    "And so on, we can predict the next 30 days"
   ]
  },
  {
   "cell_type": "code",
   "execution_count": 28,
   "id": "7cfa4d8e",
   "metadata": {},
   "outputs": [
    {
     "name": "stdout",
     "output_type": "stream",
     "text": [
      "[0.95273775]\n",
      "61\n",
      "1 day input [0.88184604 0.89003722 0.88855795 0.88670335 0.88226554 0.88625073\n",
      " 0.89382372 0.89309512 0.90244543 0.90606633 0.92167595 0.93711997\n",
      " 0.94741967 0.95308284 0.94825866 0.95303869 0.94587416 0.94605079\n",
      " 0.95014638 0.95437445 0.95363481 0.94946194 0.9619695  0.95792911\n",
      " 0.97513943 0.97126462 0.95168085 0.94564233 0.93209708 0.94213183\n",
      " 0.94132596 0.94433969 0.93726348 0.92693067 0.92376238 0.91202757\n",
      " 0.92794629 0.93831222 0.93878691 0.93181005 0.92526373 0.9333114\n",
      " 0.92678716 0.93984669 0.94629366 0.9409175  0.92973466 0.93390753\n",
      " 0.94708849 0.9469229  0.9431916  0.94942883 0.92945868 0.94076295\n",
      " 0.98633331 0.99717393 0.99757135 0.99287963 0.9897003  0.95273775]\n",
      "1 day output [[0.95185566]]\n",
      "2 day input [0.89003722 0.88855795 0.88670335 0.88226554 0.88625073 0.89382372\n",
      " 0.89309512 0.90244543 0.90606633 0.92167595 0.93711997 0.94741967\n",
      " 0.95308284 0.94825866 0.95303869 0.94587416 0.94605079 0.95014638\n",
      " 0.95437445 0.95363481 0.94946194 0.9619695  0.95792911 0.97513943\n",
      " 0.97126462 0.95168085 0.94564233 0.93209708 0.94213183 0.94132596\n",
      " 0.94433969 0.93726348 0.92693067 0.92376238 0.91202757 0.92794629\n",
      " 0.93831222 0.93878691 0.93181005 0.92526373 0.9333114  0.92678716\n",
      " 0.93984669 0.94629366 0.9409175  0.92973466 0.93390753 0.94708849\n",
      " 0.9469229  0.9431916  0.94942883 0.92945868 0.94076295 0.98633331\n",
      " 0.99717393 0.99757135 0.99287963 0.9897003  0.95273775 0.95185566]\n",
      "2 day output [[0.94893235]]\n",
      "3 day input [0.88855795 0.88670335 0.88226554 0.88625073 0.89382372 0.89309512\n",
      " 0.90244543 0.90606633 0.92167595 0.93711997 0.94741967 0.95308284\n",
      " 0.94825866 0.95303869 0.94587416 0.94605079 0.95014638 0.95437445\n",
      " 0.95363481 0.94946194 0.9619695  0.95792911 0.97513943 0.97126462\n",
      " 0.95168085 0.94564233 0.93209708 0.94213183 0.94132596 0.94433969\n",
      " 0.93726348 0.92693067 0.92376238 0.91202757 0.92794629 0.93831222\n",
      " 0.93878691 0.93181005 0.92526373 0.9333114  0.92678716 0.93984669\n",
      " 0.94629366 0.9409175  0.92973466 0.93390753 0.94708849 0.9469229\n",
      " 0.9431916  0.94942883 0.92945868 0.94076295 0.98633331 0.99717393\n",
      " 0.99757135 0.99287963 0.9897003  0.95273775 0.95185566 0.94893235]\n",
      "3 day output [[0.94511944]]\n",
      "4 day input [0.88670335 0.88226554 0.88625073 0.89382372 0.89309512 0.90244543\n",
      " 0.90606633 0.92167595 0.93711997 0.94741967 0.95308284 0.94825866\n",
      " 0.95303869 0.94587416 0.94605079 0.95014638 0.95437445 0.95363481\n",
      " 0.94946194 0.9619695  0.95792911 0.97513943 0.97126462 0.95168085\n",
      " 0.94564233 0.93209708 0.94213183 0.94132596 0.94433969 0.93726348\n",
      " 0.92693067 0.92376238 0.91202757 0.92794629 0.93831222 0.93878691\n",
      " 0.93181005 0.92526373 0.9333114  0.92678716 0.93984669 0.94629366\n",
      " 0.9409175  0.92973466 0.93390753 0.94708849 0.9469229  0.9431916\n",
      " 0.94942883 0.92945868 0.94076295 0.98633331 0.99717393 0.99757135\n",
      " 0.99287963 0.9897003  0.95273775 0.95185566 0.94893235 0.94511944]\n",
      "4 day output [[0.9409827]]\n",
      "5 day input [0.88226554 0.88625073 0.89382372 0.89309512 0.90244543 0.90606633\n",
      " 0.92167595 0.93711997 0.94741967 0.95308284 0.94825866 0.95303869\n",
      " 0.94587416 0.94605079 0.95014638 0.95437445 0.95363481 0.94946194\n",
      " 0.9619695  0.95792911 0.97513943 0.97126462 0.95168085 0.94564233\n",
      " 0.93209708 0.94213183 0.94132596 0.94433969 0.93726348 0.92693067\n",
      " 0.92376238 0.91202757 0.92794629 0.93831222 0.93878691 0.93181005\n",
      " 0.92526373 0.9333114  0.92678716 0.93984669 0.94629366 0.9409175\n",
      " 0.92973466 0.93390753 0.94708849 0.9469229  0.9431916  0.94942883\n",
      " 0.92945868 0.94076295 0.98633331 0.99717393 0.99757135 0.99287963\n",
      " 0.9897003  0.95273775 0.95185566 0.94893235 0.94511944 0.9409827 ]\n",
      "5 day output [[0.9367906]]\n",
      "6 day input [0.88625073 0.89382372 0.89309512 0.90244543 0.90606633 0.92167595\n",
      " 0.93711997 0.94741967 0.95308284 0.94825866 0.95303869 0.94587416\n",
      " 0.94605079 0.95014638 0.95437445 0.95363481 0.94946194 0.9619695\n",
      " 0.95792911 0.97513943 0.97126462 0.95168085 0.94564233 0.93209708\n",
      " 0.94213183 0.94132596 0.94433969 0.93726348 0.92693067 0.92376238\n",
      " 0.91202757 0.92794629 0.93831222 0.93878691 0.93181005 0.92526373\n",
      " 0.9333114  0.92678716 0.93984669 0.94629366 0.9409175  0.92973466\n",
      " 0.93390753 0.94708849 0.9469229  0.9431916  0.94942883 0.92945868\n",
      " 0.94076295 0.98633331 0.99717393 0.99757135 0.99287963 0.9897003\n",
      " 0.95273775 0.95185566 0.94893235 0.94511944 0.9409827  0.93679059]\n",
      "6 day output [[0.9326658]]\n",
      "7 day input [0.89382372 0.89309512 0.90244543 0.90606633 0.92167595 0.93711997\n",
      " 0.94741967 0.95308284 0.94825866 0.95303869 0.94587416 0.94605079\n",
      " 0.95014638 0.95437445 0.95363481 0.94946194 0.9619695  0.95792911\n",
      " 0.97513943 0.97126462 0.95168085 0.94564233 0.93209708 0.94213183\n",
      " 0.94132596 0.94433969 0.93726348 0.92693067 0.92376238 0.91202757\n",
      " 0.92794629 0.93831222 0.93878691 0.93181005 0.92526373 0.9333114\n",
      " 0.92678716 0.93984669 0.94629366 0.9409175  0.92973466 0.93390753\n",
      " 0.94708849 0.9469229  0.9431916  0.94942883 0.92945868 0.94076295\n",
      " 0.98633331 0.99717393 0.99757135 0.99287963 0.9897003  0.95273775\n",
      " 0.95185566 0.94893235 0.94511944 0.9409827  0.93679059 0.93266582]\n",
      "7 day output [[0.92866063]]\n",
      "8 day input [0.89309512 0.90244543 0.90606633 0.92167595 0.93711997 0.94741967\n",
      " 0.95308284 0.94825866 0.95303869 0.94587416 0.94605079 0.95014638\n",
      " 0.95437445 0.95363481 0.94946194 0.9619695  0.95792911 0.97513943\n",
      " 0.97126462 0.95168085 0.94564233 0.93209708 0.94213183 0.94132596\n",
      " 0.94433969 0.93726348 0.92693067 0.92376238 0.91202757 0.92794629\n",
      " 0.93831222 0.93878691 0.93181005 0.92526373 0.9333114  0.92678716\n",
      " 0.93984669 0.94629366 0.9409175  0.92973466 0.93390753 0.94708849\n",
      " 0.9469229  0.9431916  0.94942883 0.92945868 0.94076295 0.98633331\n",
      " 0.99717393 0.99757135 0.99287963 0.9897003  0.95273775 0.95185566\n",
      " 0.94893235 0.94511944 0.9409827  0.93679059 0.93266582 0.92866063]\n",
      "8 day output [[0.92479265]]\n",
      "9 day input [0.90244543 0.90606633 0.92167595 0.93711997 0.94741967 0.95308284\n",
      " 0.94825866 0.95303869 0.94587416 0.94605079 0.95014638 0.95437445\n",
      " 0.95363481 0.94946194 0.9619695  0.95792911 0.97513943 0.97126462\n",
      " 0.95168085 0.94564233 0.93209708 0.94213183 0.94132596 0.94433969\n",
      " 0.93726348 0.92693067 0.92376238 0.91202757 0.92794629 0.93831222\n",
      " 0.93878691 0.93181005 0.92526373 0.9333114  0.92678716 0.93984669\n",
      " 0.94629366 0.9409175  0.92973466 0.93390753 0.94708849 0.9469229\n",
      " 0.9431916  0.94942883 0.92945868 0.94076295 0.98633331 0.99717393\n",
      " 0.99757135 0.99287963 0.9897003  0.95273775 0.95185566 0.94893235\n",
      " 0.94511944 0.9409827  0.93679059 0.93266582 0.92866063 0.92479265]\n",
      "9 day output [[0.9210648]]\n",
      "10 day input [0.90606633 0.92167595 0.93711997 0.94741967 0.95308284 0.94825866\n",
      " 0.95303869 0.94587416 0.94605079 0.95014638 0.95437445 0.95363481\n",
      " 0.94946194 0.9619695  0.95792911 0.97513943 0.97126462 0.95168085\n",
      " 0.94564233 0.93209708 0.94213183 0.94132596 0.94433969 0.93726348\n",
      " 0.92693067 0.92376238 0.91202757 0.92794629 0.93831222 0.93878691\n",
      " 0.93181005 0.92526373 0.9333114  0.92678716 0.93984669 0.94629366\n",
      " 0.9409175  0.92973466 0.93390753 0.94708849 0.9469229  0.9431916\n",
      " 0.94942883 0.92945868 0.94076295 0.98633331 0.99717393 0.99757135\n",
      " 0.99287963 0.9897003  0.95273775 0.95185566 0.94893235 0.94511944\n",
      " 0.9409827  0.93679059 0.93266582 0.92866063 0.92479265 0.92106479]\n",
      "10 day output [[0.9174725]]\n",
      "11 day input [0.92167595 0.93711997 0.94741967 0.95308284 0.94825866 0.95303869\n",
      " 0.94587416 0.94605079 0.95014638 0.95437445 0.95363481 0.94946194\n",
      " 0.9619695  0.95792911 0.97513943 0.97126462 0.95168085 0.94564233\n",
      " 0.93209708 0.94213183 0.94132596 0.94433969 0.93726348 0.92693067\n",
      " 0.92376238 0.91202757 0.92794629 0.93831222 0.93878691 0.93181005\n",
      " 0.92526373 0.9333114  0.92678716 0.93984669 0.94629366 0.9409175\n",
      " 0.92973466 0.93390753 0.94708849 0.9469229  0.9431916  0.94942883\n",
      " 0.92945868 0.94076295 0.98633331 0.99717393 0.99757135 0.99287963\n",
      " 0.9897003  0.95273775 0.95185566 0.94893235 0.94511944 0.9409827\n",
      " 0.93679059 0.93266582 0.92866063 0.92479265 0.92106479 0.91747248]\n",
      "11 day output [[0.91400874]]\n",
      "12 day input [0.93711997 0.94741967 0.95308284 0.94825866 0.95303869 0.94587416\n",
      " 0.94605079 0.95014638 0.95437445 0.95363481 0.94946194 0.9619695\n",
      " 0.95792911 0.97513943 0.97126462 0.95168085 0.94564233 0.93209708\n",
      " 0.94213183 0.94132596 0.94433969 0.93726348 0.92693067 0.92376238\n",
      " 0.91202757 0.92794629 0.93831222 0.93878691 0.93181005 0.92526373\n",
      " 0.9333114  0.92678716 0.93984669 0.94629366 0.9409175  0.92973466\n",
      " 0.93390753 0.94708849 0.9469229  0.9431916  0.94942883 0.92945868\n",
      " 0.94076295 0.98633331 0.99717393 0.99757135 0.99287963 0.9897003\n",
      " 0.95273775 0.95185566 0.94893235 0.94511944 0.9409827  0.93679059\n",
      " 0.93266582 0.92866063 0.92479265 0.92106479 0.91747248 0.91400874]\n",
      "12 day output [[0.91066605]]\n",
      "13 day input [0.94741967 0.95308284 0.94825866 0.95303869 0.94587416 0.94605079\n",
      " 0.95014638 0.95437445 0.95363481 0.94946194 0.9619695  0.95792911\n",
      " 0.97513943 0.97126462 0.95168085 0.94564233 0.93209708 0.94213183\n",
      " 0.94132596 0.94433969 0.93726348 0.92693067 0.92376238 0.91202757\n",
      " 0.92794629 0.93831222 0.93878691 0.93181005 0.92526373 0.9333114\n",
      " 0.92678716 0.93984669 0.94629366 0.9409175  0.92973466 0.93390753\n",
      " 0.94708849 0.9469229  0.9431916  0.94942883 0.92945868 0.94076295\n",
      " 0.98633331 0.99717393 0.99757135 0.99287963 0.9897003  0.95273775\n",
      " 0.95185566 0.94893235 0.94511944 0.9409827  0.93679059 0.93266582\n",
      " 0.92866063 0.92479265 0.92106479 0.91747248 0.91400874 0.91066605]\n",
      "13 day output [[0.90743726]]\n",
      "14 day input [0.95308284 0.94825866 0.95303869 0.94587416 0.94605079 0.95014638\n",
      " 0.95437445 0.95363481 0.94946194 0.9619695  0.95792911 0.97513943\n",
      " 0.97126462 0.95168085 0.94564233 0.93209708 0.94213183 0.94132596\n",
      " 0.94433969 0.93726348 0.92693067 0.92376238 0.91202757 0.92794629\n",
      " 0.93831222 0.93878691 0.93181005 0.92526373 0.9333114  0.92678716\n",
      " 0.93984669 0.94629366 0.9409175  0.92973466 0.93390753 0.94708849\n",
      " 0.9469229  0.9431916  0.94942883 0.92945868 0.94076295 0.98633331\n",
      " 0.99717393 0.99757135 0.99287963 0.9897003  0.95273775 0.95185566\n",
      " 0.94893235 0.94511944 0.9409827  0.93679059 0.93266582 0.92866063\n",
      " 0.92479265 0.92106479 0.91747248 0.91400874 0.91066605 0.90743726]\n",
      "14 day output [[0.9043158]]\n",
      "15 day input [0.94825866 0.95303869 0.94587416 0.94605079 0.95014638 0.95437445\n",
      " 0.95363481 0.94946194 0.9619695  0.95792911 0.97513943 0.97126462\n",
      " 0.95168085 0.94564233 0.93209708 0.94213183 0.94132596 0.94433969\n",
      " 0.93726348 0.92693067 0.92376238 0.91202757 0.92794629 0.93831222\n",
      " 0.93878691 0.93181005 0.92526373 0.9333114  0.92678716 0.93984669\n",
      " 0.94629366 0.9409175  0.92973466 0.93390753 0.94708849 0.9469229\n",
      " 0.9431916  0.94942883 0.92945868 0.94076295 0.98633331 0.99717393\n",
      " 0.99757135 0.99287963 0.9897003  0.95273775 0.95185566 0.94893235\n",
      " 0.94511944 0.9409827  0.93679059 0.93266582 0.92866063 0.92479265\n",
      " 0.92106479 0.91747248 0.91400874 0.91066605 0.90743726 0.90431583]\n",
      "15 day output [[0.9012957]]\n",
      "16 day input [0.95303869 0.94587416 0.94605079 0.95014638 0.95437445 0.95363481\n",
      " 0.94946194 0.9619695  0.95792911 0.97513943 0.97126462 0.95168085\n",
      " 0.94564233 0.93209708 0.94213183 0.94132596 0.94433969 0.93726348\n",
      " 0.92693067 0.92376238 0.91202757 0.92794629 0.93831222 0.93878691\n",
      " 0.93181005 0.92526373 0.9333114  0.92678716 0.93984669 0.94629366\n",
      " 0.9409175  0.92973466 0.93390753 0.94708849 0.9469229  0.9431916\n",
      " 0.94942883 0.92945868 0.94076295 0.98633331 0.99717393 0.99757135\n",
      " 0.99287963 0.9897003  0.95273775 0.95185566 0.94893235 0.94511944\n",
      " 0.9409827  0.93679059 0.93266582 0.92866063 0.92479265 0.92106479\n",
      " 0.91747248 0.91400874 0.91066605 0.90743726 0.90431583 0.90129572]\n",
      "16 day output [[0.89837176]]\n",
      "17 day input [0.94587416 0.94605079 0.95014638 0.95437445 0.95363481 0.94946194\n",
      " 0.9619695  0.95792911 0.97513943 0.97126462 0.95168085 0.94564233\n",
      " 0.93209708 0.94213183 0.94132596 0.94433969 0.93726348 0.92693067\n",
      " 0.92376238 0.91202757 0.92794629 0.93831222 0.93878691 0.93181005\n",
      " 0.92526373 0.9333114  0.92678716 0.93984669 0.94629366 0.9409175\n",
      " 0.92973466 0.93390753 0.94708849 0.9469229  0.9431916  0.94942883\n",
      " 0.92945868 0.94076295 0.98633331 0.99717393 0.99757135 0.99287963\n",
      " 0.9897003  0.95273775 0.95185566 0.94893235 0.94511944 0.9409827\n",
      " 0.93679059 0.93266582 0.92866063 0.92479265 0.92106479 0.91747248\n",
      " 0.91400874 0.91066605 0.90743726 0.90431583 0.90129572 0.89837176]\n",
      "17 day output [[0.89553964]]\n",
      "18 day input [0.94605079 0.95014638 0.95437445 0.95363481 0.94946194 0.9619695\n",
      " 0.95792911 0.97513943 0.97126462 0.95168085 0.94564233 0.93209708\n",
      " 0.94213183 0.94132596 0.94433969 0.93726348 0.92693067 0.92376238\n",
      " 0.91202757 0.92794629 0.93831222 0.93878691 0.93181005 0.92526373\n",
      " 0.9333114  0.92678716 0.93984669 0.94629366 0.9409175  0.92973466\n",
      " 0.93390753 0.94708849 0.9469229  0.9431916  0.94942883 0.92945868\n",
      " 0.94076295 0.98633331 0.99717393 0.99757135 0.99287963 0.9897003\n",
      " 0.95273775 0.95185566 0.94893235 0.94511944 0.9409827  0.93679059\n",
      " 0.93266582 0.92866063 0.92479265 0.92106479 0.91747248 0.91400874\n",
      " 0.91066605 0.90743726 0.90431583 0.90129572 0.89837176 0.89553964]\n",
      "18 day output [[0.8927947]]\n",
      "19 day input [0.95014638 0.95437445 0.95363481 0.94946194 0.9619695  0.95792911\n",
      " 0.97513943 0.97126462 0.95168085 0.94564233 0.93209708 0.94213183\n",
      " 0.94132596 0.94433969 0.93726348 0.92693067 0.92376238 0.91202757\n",
      " 0.92794629 0.93831222 0.93878691 0.93181005 0.92526373 0.9333114\n",
      " 0.92678716 0.93984669 0.94629366 0.9409175  0.92973466 0.93390753\n",
      " 0.94708849 0.9469229  0.9431916  0.94942883 0.92945868 0.94076295\n",
      " 0.98633331 0.99717393 0.99757135 0.99287963 0.9897003  0.95273775\n",
      " 0.95185566 0.94893235 0.94511944 0.9409827  0.93679059 0.93266582\n",
      " 0.92866063 0.92479265 0.92106479 0.91747248 0.91400874 0.91066605\n",
      " 0.90743726 0.90431583 0.90129572 0.89837176 0.89553964 0.89279473]\n",
      "19 day output [[0.8901337]]\n",
      "20 day input [0.95437445 0.95363481 0.94946194 0.9619695  0.95792911 0.97513943\n",
      " 0.97126462 0.95168085 0.94564233 0.93209708 0.94213183 0.94132596\n",
      " 0.94433969 0.93726348 0.92693067 0.92376238 0.91202757 0.92794629\n",
      " 0.93831222 0.93878691 0.93181005 0.92526373 0.9333114  0.92678716\n",
      " 0.93984669 0.94629366 0.9409175  0.92973466 0.93390753 0.94708849\n",
      " 0.9469229  0.9431916  0.94942883 0.92945868 0.94076295 0.98633331\n",
      " 0.99717393 0.99757135 0.99287963 0.9897003  0.95273775 0.95185566\n",
      " 0.94893235 0.94511944 0.9409827  0.93679059 0.93266582 0.92866063\n",
      " 0.92479265 0.92106479 0.91747248 0.91400874 0.91066605 0.90743726\n",
      " 0.90431583 0.90129572 0.89837176 0.89553964 0.89279473 0.89013368]\n",
      "20 day output [[0.88755316]]\n",
      "21 day input [0.95363481 0.94946194 0.9619695  0.95792911 0.97513943 0.97126462\n",
      " 0.95168085 0.94564233 0.93209708 0.94213183 0.94132596 0.94433969\n",
      " 0.93726348 0.92693067 0.92376238 0.91202757 0.92794629 0.93831222\n",
      " 0.93878691 0.93181005 0.92526373 0.9333114  0.92678716 0.93984669\n",
      " 0.94629366 0.9409175  0.92973466 0.93390753 0.94708849 0.9469229\n",
      " 0.9431916  0.94942883 0.92945868 0.94076295 0.98633331 0.99717393\n",
      " 0.99757135 0.99287963 0.9897003  0.95273775 0.95185566 0.94893235\n",
      " 0.94511944 0.9409827  0.93679059 0.93266582 0.92866063 0.92479265\n",
      " 0.92106479 0.91747248 0.91400874 0.91066605 0.90743726 0.90431583\n",
      " 0.90129572 0.89837176 0.89553964 0.89279473 0.89013368 0.88755316]\n",
      "21 day output [[0.8850498]]\n",
      "22 day input [0.94946194 0.9619695  0.95792911 0.97513943 0.97126462 0.95168085\n",
      " 0.94564233 0.93209708 0.94213183 0.94132596 0.94433969 0.93726348\n",
      " 0.92693067 0.92376238 0.91202757 0.92794629 0.93831222 0.93878691\n",
      " 0.93181005 0.92526373 0.9333114  0.92678716 0.93984669 0.94629366\n",
      " 0.9409175  0.92973466 0.93390753 0.94708849 0.9469229  0.9431916\n",
      " 0.94942883 0.92945868 0.94076295 0.98633331 0.99717393 0.99757135\n",
      " 0.99287963 0.9897003  0.95273775 0.95185566 0.94893235 0.94511944\n",
      " 0.9409827  0.93679059 0.93266582 0.92866063 0.92479265 0.92106479\n",
      " 0.91747248 0.91400874 0.91066605 0.90743726 0.90431583 0.90129572\n",
      " 0.89837176 0.89553964 0.89279473 0.89013368 0.88755316 0.88504982]\n",
      "22 day output [[0.88262117]]\n",
      "23 day input [0.9619695  0.95792911 0.97513943 0.97126462 0.95168085 0.94564233\n",
      " 0.93209708 0.94213183 0.94132596 0.94433969 0.93726348 0.92693067\n",
      " 0.92376238 0.91202757 0.92794629 0.93831222 0.93878691 0.93181005\n",
      " 0.92526373 0.9333114  0.92678716 0.93984669 0.94629366 0.9409175\n",
      " 0.92973466 0.93390753 0.94708849 0.9469229  0.9431916  0.94942883\n",
      " 0.92945868 0.94076295 0.98633331 0.99717393 0.99757135 0.99287963\n",
      " 0.9897003  0.95273775 0.95185566 0.94893235 0.94511944 0.9409827\n",
      " 0.93679059 0.93266582 0.92866063 0.92479265 0.92106479 0.91747248\n",
      " 0.91400874 0.91066605 0.90743726 0.90431583 0.90129572 0.89837176\n",
      " 0.89553964 0.89279473 0.89013368 0.88755316 0.88504982 0.88262117]\n",
      "23 day output [[0.88026416]]\n",
      "24 day input [0.95792911 0.97513943 0.97126462 0.95168085 0.94564233 0.93209708\n",
      " 0.94213183 0.94132596 0.94433969 0.93726348 0.92693067 0.92376238\n",
      " 0.91202757 0.92794629 0.93831222 0.93878691 0.93181005 0.92526373\n",
      " 0.9333114  0.92678716 0.93984669 0.94629366 0.9409175  0.92973466\n",
      " 0.93390753 0.94708849 0.9469229  0.9431916  0.94942883 0.92945868\n",
      " 0.94076295 0.98633331 0.99717393 0.99757135 0.99287963 0.9897003\n",
      " 0.95273775 0.95185566 0.94893235 0.94511944 0.9409827  0.93679059\n",
      " 0.93266582 0.92866063 0.92479265 0.92106479 0.91747248 0.91400874\n",
      " 0.91066605 0.90743726 0.90431583 0.90129572 0.89837176 0.89553964\n",
      " 0.89279473 0.89013368 0.88755316 0.88504982 0.88262117 0.88026416]\n",
      "24 day output [[0.87797624]]\n",
      "25 day input [0.97513943 0.97126462 0.95168085 0.94564233 0.93209708 0.94213183\n",
      " 0.94132596 0.94433969 0.93726348 0.92693067 0.92376238 0.91202757\n",
      " 0.92794629 0.93831222 0.93878691 0.93181005 0.92526373 0.9333114\n",
      " 0.92678716 0.93984669 0.94629366 0.9409175  0.92973466 0.93390753\n",
      " 0.94708849 0.9469229  0.9431916  0.94942883 0.92945868 0.94076295\n",
      " 0.98633331 0.99717393 0.99757135 0.99287963 0.9897003  0.95273775\n",
      " 0.95185566 0.94893235 0.94511944 0.9409827  0.93679059 0.93266582\n",
      " 0.92866063 0.92479265 0.92106479 0.91747248 0.91400874 0.91066605\n",
      " 0.90743726 0.90431583 0.90129572 0.89837176 0.89553964 0.89279473\n",
      " 0.89013368 0.88755316 0.88504982 0.88262117 0.88026416 0.87797624]\n",
      "25 day output [[0.8757553]]\n",
      "26 day input [0.97126462 0.95168085 0.94564233 0.93209708 0.94213183 0.94132596\n",
      " 0.94433969 0.93726348 0.92693067 0.92376238 0.91202757 0.92794629\n",
      " 0.93831222 0.93878691 0.93181005 0.92526373 0.9333114  0.92678716\n",
      " 0.93984669 0.94629366 0.9409175  0.92973466 0.93390753 0.94708849\n",
      " 0.9469229  0.9431916  0.94942883 0.92945868 0.94076295 0.98633331\n",
      " 0.99717393 0.99757135 0.99287963 0.9897003  0.95273775 0.95185566\n",
      " 0.94893235 0.94511944 0.9409827  0.93679059 0.93266582 0.92866063\n",
      " 0.92479265 0.92106479 0.91747248 0.91400874 0.91066605 0.90743726\n",
      " 0.90431583 0.90129572 0.89837176 0.89553964 0.89279473 0.89013368\n",
      " 0.88755316 0.88504982 0.88262117 0.88026416 0.87797624 0.87575531]\n",
      "26 day output [[0.8735988]]\n",
      "27 day input [0.95168085 0.94564233 0.93209708 0.94213183 0.94132596 0.94433969\n",
      " 0.93726348 0.92693067 0.92376238 0.91202757 0.92794629 0.93831222\n",
      " 0.93878691 0.93181005 0.92526373 0.9333114  0.92678716 0.93984669\n",
      " 0.94629366 0.9409175  0.92973466 0.93390753 0.94708849 0.9469229\n",
      " 0.9431916  0.94942883 0.92945868 0.94076295 0.98633331 0.99717393\n",
      " 0.99757135 0.99287963 0.9897003  0.95273775 0.95185566 0.94893235\n",
      " 0.94511944 0.9409827  0.93679059 0.93266582 0.92866063 0.92479265\n",
      " 0.92106479 0.91747248 0.91400874 0.91066605 0.90743726 0.90431583\n",
      " 0.90129572 0.89837176 0.89553964 0.89279473 0.89013368 0.88755316\n",
      " 0.88504982 0.88262117 0.88026416 0.87797624 0.87575531 0.87359881]\n",
      "27 day output [[0.8715046]]\n",
      "28 day input [0.94564233 0.93209708 0.94213183 0.94132596 0.94433969 0.93726348\n",
      " 0.92693067 0.92376238 0.91202757 0.92794629 0.93831222 0.93878691\n",
      " 0.93181005 0.92526373 0.9333114  0.92678716 0.93984669 0.94629366\n",
      " 0.9409175  0.92973466 0.93390753 0.94708849 0.9469229  0.9431916\n",
      " 0.94942883 0.92945868 0.94076295 0.98633331 0.99717393 0.99757135\n",
      " 0.99287963 0.9897003  0.95273775 0.95185566 0.94893235 0.94511944\n",
      " 0.9409827  0.93679059 0.93266582 0.92866063 0.92479265 0.92106479\n",
      " 0.91747248 0.91400874 0.91066605 0.90743726 0.90431583 0.90129572\n",
      " 0.89837176 0.89553964 0.89279473 0.89013368 0.88755316 0.88504982\n",
      " 0.88262117 0.88026416 0.87797624 0.87575531 0.87359881 0.8715046 ]\n",
      "28 day output [[0.8694705]]\n",
      "29 day input [0.93209708 0.94213183 0.94132596 0.94433969 0.93726348 0.92693067\n",
      " 0.92376238 0.91202757 0.92794629 0.93831222 0.93878691 0.93181005\n",
      " 0.92526373 0.9333114  0.92678716 0.93984669 0.94629366 0.9409175\n",
      " 0.92973466 0.93390753 0.94708849 0.9469229  0.9431916  0.94942883\n",
      " 0.92945868 0.94076295 0.98633331 0.99717393 0.99757135 0.99287963\n",
      " 0.9897003  0.95273775 0.95185566 0.94893235 0.94511944 0.9409827\n",
      " 0.93679059 0.93266582 0.92866063 0.92479265 0.92106479 0.91747248\n",
      " 0.91400874 0.91066605 0.90743726 0.90431583 0.90129572 0.89837176\n",
      " 0.89553964 0.89279473 0.89013368 0.88755316 0.88504982 0.88262117\n",
      " 0.88026416 0.87797624 0.87575531 0.87359881 0.8715046  0.86947048]\n",
      "29 day output [[0.86749464]]\n",
      "[[0.9527377486228943], [0.9518556594848633], [0.9489323496818542], [0.9451194405555725], [0.9409826993942261], [0.9367905855178833], [0.9326658248901367], [0.9286606311798096], [0.9247926473617554], [0.9210647940635681], [0.9174724817276001], [0.9140087366104126], [0.9106660485267639], [0.907437264919281], [0.9043158292770386], [0.9012957215309143], [0.8983717560768127], [0.8955396413803101], [0.8927947282791138], [0.8901336789131165], [0.8875531554222107], [0.8850498199462891], [0.882621169090271], [0.880264163017273], [0.8779762387275696], [0.8757553100585938], [0.8735988140106201], [0.8715046048164368], [0.869470477104187], [0.8674946427345276]]\n"
     ]
    }
   ],
   "source": [
    "from numpy import array\n",
    "lst_output = []\n",
    "n_steps = 60\n",
    "i = 0\n",
    "while(i<30):\n",
    "    \n",
    "    if(len(temp_input)>60):\n",
    "        x_input=np.array(temp_input[1:])\n",
    "        print(\"{} day input {}\".format(i,x_input))\n",
    "        x_input=x_input.reshape(1,-1)\n",
    "        x_input = x_input.reshape((1, n_steps, 1))\n",
    "        yhat = model.predict(x_input, verbose=0)\n",
    "        print(\"{} day output {}\".format(i,yhat))\n",
    "        temp_input.extend(yhat[0].tolist())\n",
    "        temp_input=temp_input[1:]\n",
    "        lst_output.extend(yhat.tolist())\n",
    "        i=i+1\n",
    "    else:\n",
    "        x_input = x_input.reshape((1, n_steps,1))\n",
    "        yhat = model.predict(x_input, verbose=0)\n",
    "        print(yhat[0])\n",
    "        temp_input.extend(yhat[0].tolist())\n",
    "        print(len(temp_input))\n",
    "        lst_output.extend(yhat.tolist())\n",
    "        i=i+1\n",
    "    \n",
    "\n",
    "print(lst_output)"
   ]
  },
  {
   "cell_type": "code",
   "execution_count": 29,
   "id": "96ab3047",
   "metadata": {},
   "outputs": [],
   "source": [
    "day_new=np.arange(1,61)\n",
    "day_pred=np.arange(61,91)"
   ]
  },
  {
   "cell_type": "code",
   "execution_count": 30,
   "id": "b495ec84",
   "metadata": {},
   "outputs": [],
   "source": [
    "import matplotlib.pyplot as plt"
   ]
  },
  {
   "cell_type": "code",
   "execution_count": 31,
   "id": "a3d090b6",
   "metadata": {},
   "outputs": [
    {
     "data": {
      "text/plain": [
       "3985"
      ]
     },
     "execution_count": 31,
     "metadata": {},
     "output_type": "execute_result"
    }
   ],
   "source": [
    "len(dataset)"
   ]
  },
  {
   "cell_type": "code",
   "execution_count": 32,
   "id": "a0013109",
   "metadata": {
    "scrolled": true
   },
   "outputs": [
    {
     "data": {
      "text/plain": [
       "[<matplotlib.lines.Line2D at 0x1e09f2dc1f0>]"
      ]
     },
     "execution_count": 32,
     "metadata": {},
     "output_type": "execute_result"
    },
    {
     "data": {
      "image/png": "[encoded data removed]",
      "text/plain": [
       "<Figure size 432x288 with 1 Axes>"
      ]
     },
     "metadata": {
      "needs_background": "light"
     },
     "output_type": "display_data"
    }
   ],
   "source": [
    "# Plotting the available and the predicted data points\n",
    "plt.plot(day_new,(dataset[3925:]))\n",
    "plt.plot(day_pred,scaler.inverse_transform(lst_output))"
   ]
  },
  {
   "cell_type": "markdown",
   "id": "44152782",
   "metadata": {},
   "source": [
    "Here we can see, although there is a drop in the stock price.\n",
    "Thus we can conclude, that the peak has reached and the\n",
    "stock price may drop."
   ]
  },
  {
   "cell_type": "code",
   "execution_count": 33,
   "id": "fe9b5433",
   "metadata": {},
   "outputs": [
    {
     "data": {
      "text/plain": [
       "[<matplotlib.lines.Line2D at 0x1e09f3781c0>]"
      ]
     },
     "execution_count": 33,
     "metadata": {},
     "output_type": "execute_result"
    },
    {
     "data": {
      "image/png": "[encoded data removed]",
      "text/plain": [
       "<Figure size 432x288 with 1 Axes>"
      ]
     },
     "metadata": {
      "needs_background": "light"
     },
     "output_type": "display_data"
    }
   ],
   "source": [
    "# Now we will just combine the 2 graphs and plot it together\n",
    "df3=dataset.tolist()\n",
    "df3.extend(scaler.inverse_transform(lst_output))\n",
    "plt.plot(df3[3400:])"
   ]
  },
  {
   "cell_type": "code",
   "execution_count": 34,
   "id": "a6cdec00",
   "metadata": {},
   "outputs": [
    {
     "data": {
      "text/plain": [
       "[<matplotlib.lines.Line2D at 0x1e09f2c7c40>]"
      ]
     },
     "execution_count": 34,
     "metadata": {},
     "output_type": "execute_result"
    },
    {
     "data": {
      "image/png": "[encoded data removed]",
      "text/plain": [
       "<Figure size 432x288 with 1 Axes>"
      ]
     },
     "metadata": {
      "needs_background": "light"
     },
     "output_type": "display_data"
    }
   ],
   "source": [
    "plt.plot(df3)"
   ]
  },
  {
   "cell_type": "code",
   "execution_count": null,
   "id": "feaa071f",
   "metadata": {},
   "outputs": [],
   "source": []
  }
 ],
 "metadata": {
  "kernelspec": {
   "display_name": "Python 3 (ipykernel)",
   "language": "python",
   "name": "python3"
  },
  "language_info": {
   "codemirror_mode": {
    "name": "ipython",
    "version": 3
   },
   "file_extension": ".py",
   "mimetype": "text/x-python",
   "name": "python",
   "nbconvert_exporter": "python",
   "pygments_lexer": "ipython3",
   "version": "3.9.12"
  }
 },
 "nbformat": 4,
 "nbformat_minor": 5
}
